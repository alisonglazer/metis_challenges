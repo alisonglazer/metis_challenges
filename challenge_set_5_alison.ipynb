{
 "cells": [
  {
   "cell_type": "markdown",
   "metadata": {},
   "source": [
    "# Challenge Set 5 - Alison Glazer\n",
    "Topic: Challenge Set 5 Subject: Explore MTA turnstile data Date: 10/13/2019 Name: Alison Glazer Worked with: -- Location: https://github.com/alisonglazer/metis_challenges/blob/master/challenge_set_5_alison.ipynb"
   ]
  },
  {
   "cell_type": "code",
   "execution_count": 1,
   "metadata": {},
   "outputs": [
    {
     "name": "stdout",
     "output_type": "stream",
     "text": [
      "Python Version: 3.6.9 |Anaconda, Inc.| (default, Jul 30 2019, 13:42:17) \n",
      "[GCC 4.2.1 Compatible Clang 4.0.1 (tags/RELEASE_401/final)]\n"
     ]
    }
   ],
   "source": [
    "import sys\n",
    "print(\"Python Version:\", sys.version)"
   ]
  },
  {
   "cell_type": "code",
   "execution_count": 98,
   "metadata": {},
   "outputs": [],
   "source": [
    "# Import libraries\n",
    "import pandas as pd\n",
    "import statsmodels.api as sm\n",
    "import patsy\n",
    "import matplotlib.pyplot as plt\n",
    "%matplotlib inline\n",
    "\n",
    "from sklearn.model_selection import train_test_split"
   ]
  },
  {
   "cell_type": "code",
   "execution_count": 71,
   "metadata": {},
   "outputs": [],
   "source": [
    "df = pd.read_csv('challenges_data/2013_movies.csv')"
   ]
  },
  {
   "cell_type": "code",
   "execution_count": 72,
   "metadata": {},
   "outputs": [
    {
     "data": {
      "text/html": [
       "<div>\n",
       "<style scoped>\n",
       "    .dataframe tbody tr th:only-of-type {\n",
       "        vertical-align: middle;\n",
       "    }\n",
       "\n",
       "    .dataframe tbody tr th {\n",
       "        vertical-align: top;\n",
       "    }\n",
       "\n",
       "    .dataframe thead th {\n",
       "        text-align: right;\n",
       "    }\n",
       "</style>\n",
       "<table border=\"1\" class=\"dataframe\">\n",
       "  <thead>\n",
       "    <tr style=\"text-align: right;\">\n",
       "      <th></th>\n",
       "      <th>Title</th>\n",
       "      <th>Budget</th>\n",
       "      <th>DomesticTotalGross</th>\n",
       "      <th>Director</th>\n",
       "      <th>Rating</th>\n",
       "      <th>Runtime</th>\n",
       "      <th>ReleaseDate</th>\n",
       "    </tr>\n",
       "  </thead>\n",
       "  <tbody>\n",
       "    <tr>\n",
       "      <td>0</td>\n",
       "      <td>The Hunger Games: Catching Fire</td>\n",
       "      <td>130000000.0</td>\n",
       "      <td>424668047</td>\n",
       "      <td>Francis Lawrence</td>\n",
       "      <td>PG-13</td>\n",
       "      <td>146</td>\n",
       "      <td>2013-11-22 00:00:00</td>\n",
       "    </tr>\n",
       "    <tr>\n",
       "      <td>1</td>\n",
       "      <td>Iron Man 3</td>\n",
       "      <td>200000000.0</td>\n",
       "      <td>409013994</td>\n",
       "      <td>Shane Black</td>\n",
       "      <td>PG-13</td>\n",
       "      <td>129</td>\n",
       "      <td>2013-05-03 00:00:00</td>\n",
       "    </tr>\n",
       "    <tr>\n",
       "      <td>2</td>\n",
       "      <td>Frozen</td>\n",
       "      <td>150000000.0</td>\n",
       "      <td>400738009</td>\n",
       "      <td>Chris BuckJennifer Lee</td>\n",
       "      <td>PG</td>\n",
       "      <td>108</td>\n",
       "      <td>2013-11-22 00:00:00</td>\n",
       "    </tr>\n",
       "    <tr>\n",
       "      <td>3</td>\n",
       "      <td>Despicable Me 2</td>\n",
       "      <td>76000000.0</td>\n",
       "      <td>368061265</td>\n",
       "      <td>Pierre CoffinChris Renaud</td>\n",
       "      <td>PG</td>\n",
       "      <td>98</td>\n",
       "      <td>2013-07-03 00:00:00</td>\n",
       "    </tr>\n",
       "    <tr>\n",
       "      <td>4</td>\n",
       "      <td>Man of Steel</td>\n",
       "      <td>225000000.0</td>\n",
       "      <td>291045518</td>\n",
       "      <td>Zack Snyder</td>\n",
       "      <td>PG-13</td>\n",
       "      <td>143</td>\n",
       "      <td>2013-06-14 00:00:00</td>\n",
       "    </tr>\n",
       "  </tbody>\n",
       "</table>\n",
       "</div>"
      ],
      "text/plain": [
       "                             Title       Budget  DomesticTotalGross  \\\n",
       "0  The Hunger Games: Catching Fire  130000000.0           424668047   \n",
       "1                       Iron Man 3  200000000.0           409013994   \n",
       "2                           Frozen  150000000.0           400738009   \n",
       "3                  Despicable Me 2   76000000.0           368061265   \n",
       "4                     Man of Steel  225000000.0           291045518   \n",
       "\n",
       "                    Director Rating  Runtime          ReleaseDate  \n",
       "0           Francis Lawrence  PG-13      146  2013-11-22 00:00:00  \n",
       "1                Shane Black  PG-13      129  2013-05-03 00:00:00  \n",
       "2     Chris BuckJennifer Lee     PG      108  2013-11-22 00:00:00  \n",
       "3  Pierre CoffinChris Renaud     PG       98  2013-07-03 00:00:00  \n",
       "4                Zack Snyder  PG-13      143  2013-06-14 00:00:00  "
      ]
     },
     "execution_count": 72,
     "metadata": {},
     "output_type": "execute_result"
    }
   ],
   "source": [
    "df.head()"
   ]
  },
  {
   "cell_type": "markdown",
   "metadata": {},
   "source": [
    "## **CHALLENGE 1**"
   ]
  },
  {
   "cell_type": "code",
   "execution_count": 75,
   "metadata": {},
   "outputs": [
    {
     "name": "stderr",
     "output_type": "stream",
     "text": [
      "/anaconda3/envs/metis/lib/python3.6/site-packages/statsmodels/regression/linear_model.py:1657: RuntimeWarning: divide by zero encountered in double_scalars\n",
      "  return self.ess/self.df_model\n"
     ]
    },
    {
     "data": {
      "text/html": [
       "<table class=\"simpletable\">\n",
       "<caption>OLS Regression Results</caption>\n",
       "<tr>\n",
       "  <th>Dep. Variable:</th>    <td>DomesticTotalGross</td> <th>  R-squared:         </th> <td>   0.000</td>\n",
       "</tr>\n",
       "<tr>\n",
       "  <th>Model:</th>                    <td>OLS</td>        <th>  Adj. R-squared:    </th> <td>   0.000</td>\n",
       "</tr>\n",
       "<tr>\n",
       "  <th>Method:</th>              <td>Least Squares</td>   <th>  F-statistic:       </th> <td>     inf</td>\n",
       "</tr>\n",
       "<tr>\n",
       "  <th>Date:</th>              <td>Sun, 13 Oct 2019</td>  <th>  Prob (F-statistic):</th>  <td>   nan</td> \n",
       "</tr>\n",
       "<tr>\n",
       "  <th>Time:</th>                  <td>13:56:30</td>      <th>  Log-Likelihood:    </th> <td> -1970.0</td>\n",
       "</tr>\n",
       "<tr>\n",
       "  <th>No. Observations:</th>       <td>   100</td>       <th>  AIC:               </th> <td>   3942.</td>\n",
       "</tr>\n",
       "<tr>\n",
       "  <th>Df Residuals:</th>           <td>    99</td>       <th>  BIC:               </th> <td>   3945.</td>\n",
       "</tr>\n",
       "<tr>\n",
       "  <th>Df Model:</th>               <td>     0</td>       <th>                     </th>     <td> </td>   \n",
       "</tr>\n",
       "<tr>\n",
       "  <th>Covariance Type:</th>       <td>nonrobust</td>     <th>                     </th>     <td> </td>   \n",
       "</tr>\n",
       "</table>\n",
       "<table class=\"simpletable\">\n",
       "<tr>\n",
       "      <td></td>         <th>coef</th>     <th>std err</th>      <th>t</th>      <th>P>|t|</th>  <th>[0.025</th>    <th>0.975]</th>  \n",
       "</tr>\n",
       "<tr>\n",
       "  <th>Intercept</th> <td>  5.03e+07</td> <td> 4.37e+06</td> <td>   11.510</td> <td> 0.000</td> <td> 4.16e+07</td> <td>  5.9e+07</td>\n",
       "</tr>\n",
       "<tr>\n",
       "  <th>intercept</th> <td>  5.03e+07</td> <td> 4.37e+06</td> <td>   11.510</td> <td> 0.000</td> <td> 4.16e+07</td> <td>  5.9e+07</td>\n",
       "</tr>\n",
       "</table>\n",
       "<table class=\"simpletable\">\n",
       "<tr>\n",
       "  <th>Omnibus:</th>       <td>51.114</td> <th>  Durbin-Watson:     </th> <td>   0.013</td>\n",
       "</tr>\n",
       "<tr>\n",
       "  <th>Prob(Omnibus):</th> <td> 0.000</td> <th>  Jarque-Bera (JB):  </th> <td> 125.961</td>\n",
       "</tr>\n",
       "<tr>\n",
       "  <th>Skew:</th>          <td> 1.985</td> <th>  Prob(JB):          </th> <td>4.45e-28</td>\n",
       "</tr>\n",
       "<tr>\n",
       "  <th>Kurtosis:</th>      <td> 6.804</td> <th>  Cond. No.          </th> <td>7.24e+16</td>\n",
       "</tr>\n",
       "</table><br/><br/>Warnings:<br/>[1] Standard Errors assume that the covariance matrix of the errors is correctly specified.<br/>[2] The smallest eigenvalue is 3.81e-32. This might indicate that there are<br/>strong multicollinearity problems or that the design matrix is singular."
      ],
      "text/plain": [
       "<class 'statsmodels.iolib.summary.Summary'>\n",
       "\"\"\"\n",
       "                            OLS Regression Results                            \n",
       "==============================================================================\n",
       "Dep. Variable:     DomesticTotalGross   R-squared:                       0.000\n",
       "Model:                            OLS   Adj. R-squared:                  0.000\n",
       "Method:                 Least Squares   F-statistic:                       inf\n",
       "Date:                Sun, 13 Oct 2019   Prob (F-statistic):                nan\n",
       "Time:                        13:56:30   Log-Likelihood:                -1970.0\n",
       "No. Observations:                 100   AIC:                             3942.\n",
       "Df Residuals:                      99   BIC:                             3945.\n",
       "Df Model:                           0                                         \n",
       "Covariance Type:            nonrobust                                         \n",
       "==============================================================================\n",
       "                 coef    std err          t      P>|t|      [0.025      0.975]\n",
       "------------------------------------------------------------------------------\n",
       "Intercept    5.03e+07   4.37e+06     11.510      0.000    4.16e+07     5.9e+07\n",
       "intercept    5.03e+07   4.37e+06     11.510      0.000    4.16e+07     5.9e+07\n",
       "==============================================================================\n",
       "Omnibus:                       51.114   Durbin-Watson:                   0.013\n",
       "Prob(Omnibus):                  0.000   Jarque-Bera (JB):              125.961\n",
       "Skew:                           1.985   Prob(JB):                     4.45e-28\n",
       "Kurtosis:                       6.804   Cond. No.                     7.24e+16\n",
       "==============================================================================\n",
       "\n",
       "Warnings:\n",
       "[1] Standard Errors assume that the covariance matrix of the errors is correctly specified.\n",
       "[2] The smallest eigenvalue is 3.81e-32. This might indicate that there are\n",
       "strong multicollinearity problems or that the design matrix is singular.\n",
       "\"\"\""
      ]
     },
     "execution_count": 75,
     "metadata": {},
     "output_type": "execute_result"
    }
   ],
   "source": [
    "# Create a constant column of ones\n",
    "df['intercept'] = 1\n",
    "\n",
    "y,X = patsy.dmatrices('DomesticTotalGross ~ intercept', data = df, return_type='dataframe')\n",
    "\n",
    "lm_c1 = sm.OLS(y, X, data=df) # Instantiate and train model\n",
    "\n",
    "results = lm_c1.fit() # Fit model, generate results\n",
    "\n",
    "results.summary() # Summarize model"
   ]
  },
  {
   "cell_type": "markdown",
   "metadata": {},
   "source": [
    "With an $R^2$ value of 0, the model is no better than predicting the mean. Given that the only feature is a constant term, with a scalar coefficient equal to the mean divided by the constant (in this case 1) it will only ever predict the mean value of the target."
   ]
  },
  {
   "cell_type": "code",
   "execution_count": 33,
   "metadata": {},
   "outputs": [
    {
     "data": {
      "image/png": "[encoded data removed]",
      "text/plain": [
       "<Figure size 432x288 with 1 Axes>"
      ]
     },
     "metadata": {
      "needs_background": "light"
     },
     "output_type": "display_data"
    }
   ],
   "source": [
    "# Plot predictions vs outcome\n",
    "y_pred = results.predict()\n",
    "\n",
    "plt.scatter(y_pred,y)\n",
    "plt.xlabel('predicted')\n",
    "plt.ylabel('actual');"
   ]
  },
  {
   "cell_type": "code",
   "execution_count": 47,
   "metadata": {},
   "outputs": [
    {
     "data": {
      "image/png": "[encoded data removed]",
      "text/plain": [
       "<Figure size 432x288 with 1 Axes>"
      ]
     },
     "metadata": {
      "needs_background": "light"
     },
     "output_type": "display_data"
    }
   ],
   "source": [
    "# Plot the residuals\n",
    "resid = df.DomesticTotalGross-y_pred\n",
    "plt.hist(resid)\n",
    "plt.title('Distribution of Residuals');"
   ]
  },
  {
   "cell_type": "markdown",
   "metadata": {},
   "source": [
    "The residual distribution is skewed right. This would mirror the distribution of the target"
   ]
  },
  {
   "cell_type": "markdown",
   "metadata": {},
   "source": [
    "## **CHALLENGE 2**"
   ]
  },
  {
   "cell_type": "code",
   "execution_count": 55,
   "metadata": {},
   "outputs": [
    {
     "data": {
      "text/html": [
       "<table class=\"simpletable\">\n",
       "<caption>OLS Regression Results</caption>\n",
       "<tr>\n",
       "  <th>Dep. Variable:</th>    <td>DomesticTotalGross</td> <th>  R-squared:         </th> <td>   0.086</td>\n",
       "</tr>\n",
       "<tr>\n",
       "  <th>Model:</th>                    <td>OLS</td>        <th>  Adj. R-squared:    </th> <td>   0.076</td>\n",
       "</tr>\n",
       "<tr>\n",
       "  <th>Method:</th>              <td>Least Squares</td>   <th>  F-statistic:       </th> <td>   9.180</td>\n",
       "</tr>\n",
       "<tr>\n",
       "  <th>Date:</th>              <td>Sun, 13 Oct 2019</td>  <th>  Prob (F-statistic):</th>  <td>0.00313</td>\n",
       "</tr>\n",
       "<tr>\n",
       "  <th>Time:</th>                  <td>13:37:18</td>      <th>  Log-Likelihood:    </th> <td> -1965.5</td>\n",
       "</tr>\n",
       "<tr>\n",
       "  <th>No. Observations:</th>       <td>   100</td>       <th>  AIC:               </th> <td>   3935.</td>\n",
       "</tr>\n",
       "<tr>\n",
       "  <th>Df Residuals:</th>           <td>    98</td>       <th>  BIC:               </th> <td>   3940.</td>\n",
       "</tr>\n",
       "<tr>\n",
       "  <th>Df Model:</th>               <td>     1</td>       <th>                     </th>     <td> </td>   \n",
       "</tr>\n",
       "<tr>\n",
       "  <th>Covariance Type:</th>       <td>nonrobust</td>     <th>                     </th>     <td> </td>   \n",
       "</tr>\n",
       "</table>\n",
       "<table class=\"simpletable\">\n",
       "<tr>\n",
       "      <td></td>         <th>coef</th>     <th>std err</th>      <th>t</th>      <th>P>|t|</th>  <th>[0.025</th>    <th>0.975]</th>  \n",
       "</tr>\n",
       "<tr>\n",
       "  <th>Intercept</th> <td>-2.862e+07</td> <td> 2.64e+07</td> <td>   -1.085</td> <td> 0.281</td> <td> -8.1e+07</td> <td> 2.37e+07</td>\n",
       "</tr>\n",
       "<tr>\n",
       "  <th>intercept</th> <td>-2.862e+07</td> <td> 2.64e+07</td> <td>   -1.085</td> <td> 0.281</td> <td> -8.1e+07</td> <td> 2.37e+07</td>\n",
       "</tr>\n",
       "<tr>\n",
       "  <th>Runtime</th>   <td> 1.406e+06</td> <td> 4.64e+05</td> <td>    3.030</td> <td> 0.003</td> <td> 4.85e+05</td> <td> 2.33e+06</td>\n",
       "</tr>\n",
       "</table>\n",
       "<table class=\"simpletable\">\n",
       "<tr>\n",
       "  <th>Omnibus:</th>       <td>50.222</td> <th>  Durbin-Watson:     </th> <td>   0.189</td>\n",
       "</tr>\n",
       "<tr>\n",
       "  <th>Prob(Omnibus):</th> <td> 0.000</td> <th>  Jarque-Bera (JB):  </th> <td> 125.001</td>\n",
       "</tr>\n",
       "<tr>\n",
       "  <th>Skew:</th>          <td> 1.932</td> <th>  Prob(JB):          </th> <td>7.19e-28</td>\n",
       "</tr>\n",
       "<tr>\n",
       "  <th>Kurtosis:</th>      <td> 6.883</td> <th>  Cond. No.          </th> <td>6.42e+17</td>\n",
       "</tr>\n",
       "</table><br/><br/>Warnings:<br/>[1] Standard Errors assume that the covariance matrix of the errors is correctly specified.<br/>[2] The smallest eigenvalue is 3.14e-30. This might indicate that there are<br/>strong multicollinearity problems or that the design matrix is singular."
      ],
      "text/plain": [
       "<class 'statsmodels.iolib.summary.Summary'>\n",
       "\"\"\"\n",
       "                            OLS Regression Results                            \n",
       "==============================================================================\n",
       "Dep. Variable:     DomesticTotalGross   R-squared:                       0.086\n",
       "Model:                            OLS   Adj. R-squared:                  0.076\n",
       "Method:                 Least Squares   F-statistic:                     9.180\n",
       "Date:                Sun, 13 Oct 2019   Prob (F-statistic):            0.00313\n",
       "Time:                        13:37:18   Log-Likelihood:                -1965.5\n",
       "No. Observations:                 100   AIC:                             3935.\n",
       "Df Residuals:                      98   BIC:                             3940.\n",
       "Df Model:                           1                                         \n",
       "Covariance Type:            nonrobust                                         \n",
       "==============================================================================\n",
       "                 coef    std err          t      P>|t|      [0.025      0.975]\n",
       "------------------------------------------------------------------------------\n",
       "Intercept  -2.862e+07   2.64e+07     -1.085      0.281    -8.1e+07    2.37e+07\n",
       "intercept  -2.862e+07   2.64e+07     -1.085      0.281    -8.1e+07    2.37e+07\n",
       "Runtime     1.406e+06   4.64e+05      3.030      0.003    4.85e+05    2.33e+06\n",
       "==============================================================================\n",
       "Omnibus:                       50.222   Durbin-Watson:                   0.189\n",
       "Prob(Omnibus):                  0.000   Jarque-Bera (JB):              125.001\n",
       "Skew:                           1.932   Prob(JB):                     7.19e-28\n",
       "Kurtosis:                       6.883   Cond. No.                     6.42e+17\n",
       "==============================================================================\n",
       "\n",
       "Warnings:\n",
       "[1] Standard Errors assume that the covariance matrix of the errors is correctly specified.\n",
       "[2] The smallest eigenvalue is 3.14e-30. This might indicate that there are\n",
       "strong multicollinearity problems or that the design matrix is singular.\n",
       "\"\"\""
      ]
     },
     "execution_count": 55,
     "metadata": {},
     "output_type": "execute_result"
    }
   ],
   "source": [
    "# Add extra numeric feature (runtime)\n",
    "\n",
    "y,X = patsy.dmatrices('DomesticTotalGross ~ intercept + Runtime', data = df, return_type='dataframe')\n",
    "\n",
    "lm_c2 = sm.OLS(y, X, data=df) # Instantiate and train model\n",
    "\n",
    "results2 = lm_c2.fit() # Fit model, generate results\n",
    "\n",
    "results2.summary() # Summarize model"
   ]
  },
  {
   "cell_type": "code",
   "execution_count": 56,
   "metadata": {},
   "outputs": [
    {
     "data": {
      "image/png": "[encoded data removed]",
      "text/plain": [
       "<Figure size 432x288 with 1 Axes>"
      ]
     },
     "metadata": {
      "needs_background": "light"
     },
     "output_type": "display_data"
    }
   ],
   "source": [
    "# Plot predictions vs feature variable\n",
    "y_pred = results2.predict()\n",
    "\n",
    "plt.scatter(df.Runtime,y_pred)\n",
    "plt.xlabel('Runtime')\n",
    "plt.ylabel('predicted target');"
   ]
  },
  {
   "cell_type": "code",
   "execution_count": 58,
   "metadata": {},
   "outputs": [
    {
     "data": {
      "image/png": "[encoded data removed]",
      "text/plain": [
       "<Figure size 432x288 with 1 Axes>"
      ]
     },
     "metadata": {
      "needs_background": "light"
     },
     "output_type": "display_data"
    }
   ],
   "source": [
    "# Calculate residuals\n",
    "\n",
    "resid = df.DomesticTotalGross - y_pred\n",
    "\n",
    "# Plot residuals vs runtime\n",
    "\n",
    "plt.scatter(df.Runtime, resid);"
   ]
  },
  {
   "cell_type": "markdown",
   "metadata": {},
   "source": [
    "Hard to tell what is happening in the model. The $R^2$ value went up a little bit. The prediction is a linear function of the Runtime feature variable. Since the target is bounded at zero, the residuals are not normally distributed around a mean of zero"
   ]
  },
  {
   "cell_type": "markdown",
   "metadata": {},
   "source": [
    "## **CHALLENGE 3**"
   ]
  },
  {
   "cell_type": "code",
   "execution_count": 60,
   "metadata": {},
   "outputs": [
    {
     "data": {
      "text/html": [
       "<div>\n",
       "<style scoped>\n",
       "    .dataframe tbody tr th:only-of-type {\n",
       "        vertical-align: middle;\n",
       "    }\n",
       "\n",
       "    .dataframe tbody tr th {\n",
       "        vertical-align: top;\n",
       "    }\n",
       "\n",
       "    .dataframe thead th {\n",
       "        text-align: right;\n",
       "    }\n",
       "</style>\n",
       "<table border=\"1\" class=\"dataframe\">\n",
       "  <thead>\n",
       "    <tr style=\"text-align: right;\">\n",
       "      <th></th>\n",
       "      <th>Title</th>\n",
       "      <th>Budget</th>\n",
       "      <th>DomesticTotalGross</th>\n",
       "      <th>Director</th>\n",
       "      <th>Rating</th>\n",
       "      <th>Runtime</th>\n",
       "      <th>ReleaseDate</th>\n",
       "      <th>intercept</th>\n",
       "    </tr>\n",
       "  </thead>\n",
       "  <tbody>\n",
       "    <tr>\n",
       "      <td>0</td>\n",
       "      <td>The Hunger Games: Catching Fire</td>\n",
       "      <td>130000000.0</td>\n",
       "      <td>424668047</td>\n",
       "      <td>Francis Lawrence</td>\n",
       "      <td>PG-13</td>\n",
       "      <td>146</td>\n",
       "      <td>2013-11-22 00:00:00</td>\n",
       "      <td>1</td>\n",
       "    </tr>\n",
       "    <tr>\n",
       "      <td>1</td>\n",
       "      <td>Iron Man 3</td>\n",
       "      <td>200000000.0</td>\n",
       "      <td>409013994</td>\n",
       "      <td>Shane Black</td>\n",
       "      <td>PG-13</td>\n",
       "      <td>129</td>\n",
       "      <td>2013-05-03 00:00:00</td>\n",
       "      <td>1</td>\n",
       "    </tr>\n",
       "    <tr>\n",
       "      <td>2</td>\n",
       "      <td>Frozen</td>\n",
       "      <td>150000000.0</td>\n",
       "      <td>400738009</td>\n",
       "      <td>Chris BuckJennifer Lee</td>\n",
       "      <td>PG</td>\n",
       "      <td>108</td>\n",
       "      <td>2013-11-22 00:00:00</td>\n",
       "      <td>1</td>\n",
       "    </tr>\n",
       "    <tr>\n",
       "      <td>3</td>\n",
       "      <td>Despicable Me 2</td>\n",
       "      <td>76000000.0</td>\n",
       "      <td>368061265</td>\n",
       "      <td>Pierre CoffinChris Renaud</td>\n",
       "      <td>PG</td>\n",
       "      <td>98</td>\n",
       "      <td>2013-07-03 00:00:00</td>\n",
       "      <td>1</td>\n",
       "    </tr>\n",
       "    <tr>\n",
       "      <td>4</td>\n",
       "      <td>Man of Steel</td>\n",
       "      <td>225000000.0</td>\n",
       "      <td>291045518</td>\n",
       "      <td>Zack Snyder</td>\n",
       "      <td>PG-13</td>\n",
       "      <td>143</td>\n",
       "      <td>2013-06-14 00:00:00</td>\n",
       "      <td>1</td>\n",
       "    </tr>\n",
       "  </tbody>\n",
       "</table>\n",
       "</div>"
      ],
      "text/plain": [
       "                             Title       Budget  DomesticTotalGross  \\\n",
       "0  The Hunger Games: Catching Fire  130000000.0           424668047   \n",
       "1                       Iron Man 3  200000000.0           409013994   \n",
       "2                           Frozen  150000000.0           400738009   \n",
       "3                  Despicable Me 2   76000000.0           368061265   \n",
       "4                     Man of Steel  225000000.0           291045518   \n",
       "\n",
       "                    Director Rating  Runtime          ReleaseDate  intercept  \n",
       "0           Francis Lawrence  PG-13      146  2013-11-22 00:00:00          1  \n",
       "1                Shane Black  PG-13      129  2013-05-03 00:00:00          1  \n",
       "2     Chris BuckJennifer Lee     PG      108  2013-11-22 00:00:00          1  \n",
       "3  Pierre CoffinChris Renaud     PG       98  2013-07-03 00:00:00          1  \n",
       "4                Zack Snyder  PG-13      143  2013-06-14 00:00:00          1  "
      ]
     },
     "execution_count": 60,
     "metadata": {},
     "output_type": "execute_result"
    }
   ],
   "source": []
  },
  {
   "cell_type": "code",
   "execution_count": 73,
   "metadata": {},
   "outputs": [],
   "source": [
    "# Add dummy variable columns for ratings\n",
    "df = df.merge(pd.get_dummies(df['Rating'],drop_first=True),right_index=True,left_index=True)\n",
    "\n",
    "df.rename(columns={'PG-13':'PG13'},inplace=True)"
   ]
  },
  {
   "cell_type": "code",
   "execution_count": 76,
   "metadata": {},
   "outputs": [
    {
     "data": {
      "text/html": [
       "<table class=\"simpletable\">\n",
       "<caption>OLS Regression Results</caption>\n",
       "<tr>\n",
       "  <th>Dep. Variable:</th>    <td>DomesticTotalGross</td> <th>  R-squared:         </th> <td>   0.215</td>\n",
       "</tr>\n",
       "<tr>\n",
       "  <th>Model:</th>                    <td>OLS</td>        <th>  Adj. R-squared:    </th> <td>   0.182</td>\n",
       "</tr>\n",
       "<tr>\n",
       "  <th>Method:</th>              <td>Least Squares</td>   <th>  F-statistic:       </th> <td>   6.497</td>\n",
       "</tr>\n",
       "<tr>\n",
       "  <th>Date:</th>              <td>Sun, 13 Oct 2019</td>  <th>  Prob (F-statistic):</th> <td>0.000115</td>\n",
       "</tr>\n",
       "<tr>\n",
       "  <th>Time:</th>                  <td>13:56:35</td>      <th>  Log-Likelihood:    </th> <td> -1957.9</td>\n",
       "</tr>\n",
       "<tr>\n",
       "  <th>No. Observations:</th>       <td>   100</td>       <th>  AIC:               </th> <td>   3926.</td>\n",
       "</tr>\n",
       "<tr>\n",
       "  <th>Df Residuals:</th>           <td>    95</td>       <th>  BIC:               </th> <td>   3939.</td>\n",
       "</tr>\n",
       "<tr>\n",
       "  <th>Df Model:</th>               <td>     4</td>       <th>                     </th>     <td> </td>   \n",
       "</tr>\n",
       "<tr>\n",
       "  <th>Covariance Type:</th>       <td>nonrobust</td>     <th>                     </th>     <td> </td>   \n",
       "</tr>\n",
       "</table>\n",
       "<table class=\"simpletable\">\n",
       "<tr>\n",
       "      <td></td>         <th>coef</th>     <th>std err</th>      <th>t</th>      <th>P>|t|</th>  <th>[0.025</th>    <th>0.975]</th>  \n",
       "</tr>\n",
       "<tr>\n",
       "  <th>Intercept</th> <td> 4.559e+07</td> <td> 4.67e+07</td> <td>    0.977</td> <td> 0.331</td> <td>-4.71e+07</td> <td> 1.38e+08</td>\n",
       "</tr>\n",
       "<tr>\n",
       "  <th>intercept</th> <td> 4.559e+07</td> <td> 4.67e+07</td> <td>    0.977</td> <td> 0.331</td> <td>-4.71e+07</td> <td> 1.38e+08</td>\n",
       "</tr>\n",
       "<tr>\n",
       "  <th>Runtime</th>   <td> 1.657e+06</td> <td> 4.64e+05</td> <td>    3.574</td> <td> 0.001</td> <td> 7.37e+05</td> <td> 2.58e+06</td>\n",
       "</tr>\n",
       "<tr>\n",
       "  <th>PG</th>        <td>-1.256e+08</td> <td> 8.17e+07</td> <td>   -1.538</td> <td> 0.127</td> <td>-2.88e+08</td> <td> 3.66e+07</td>\n",
       "</tr>\n",
       "<tr>\n",
       "  <th>PG13</th>      <td>-1.745e+08</td> <td>    8e+07</td> <td>   -2.180</td> <td> 0.032</td> <td>-3.33e+08</td> <td>-1.56e+07</td>\n",
       "</tr>\n",
       "<tr>\n",
       "  <th>R</th>         <td>-2.048e+08</td> <td> 8.01e+07</td> <td>   -2.555</td> <td> 0.012</td> <td>-3.64e+08</td> <td>-4.57e+07</td>\n",
       "</tr>\n",
       "</table>\n",
       "<table class=\"simpletable\">\n",
       "<tr>\n",
       "  <th>Omnibus:</th>       <td>43.608</td> <th>  Durbin-Watson:     </th> <td>   0.448</td>\n",
       "</tr>\n",
       "<tr>\n",
       "  <th>Prob(Omnibus):</th> <td> 0.000</td> <th>  Jarque-Bera (JB):  </th> <td>  95.295</td>\n",
       "</tr>\n",
       "<tr>\n",
       "  <th>Skew:</th>          <td> 1.721</td> <th>  Prob(JB):          </th> <td>2.03e-21</td>\n",
       "</tr>\n",
       "<tr>\n",
       "  <th>Kurtosis:</th>      <td> 6.319</td> <th>  Cond. No.          </th> <td>8.86e+17</td>\n",
       "</tr>\n",
       "</table><br/><br/>Warnings:<br/>[1] Standard Errors assume that the covariance matrix of the errors is correctly specified.<br/>[2] The smallest eigenvalue is 1.65e-30. This might indicate that there are<br/>strong multicollinearity problems or that the design matrix is singular."
      ],
      "text/plain": [
       "<class 'statsmodels.iolib.summary.Summary'>\n",
       "\"\"\"\n",
       "                            OLS Regression Results                            \n",
       "==============================================================================\n",
       "Dep. Variable:     DomesticTotalGross   R-squared:                       0.215\n",
       "Model:                            OLS   Adj. R-squared:                  0.182\n",
       "Method:                 Least Squares   F-statistic:                     6.497\n",
       "Date:                Sun, 13 Oct 2019   Prob (F-statistic):           0.000115\n",
       "Time:                        13:56:35   Log-Likelihood:                -1957.9\n",
       "No. Observations:                 100   AIC:                             3926.\n",
       "Df Residuals:                      95   BIC:                             3939.\n",
       "Df Model:                           4                                         \n",
       "Covariance Type:            nonrobust                                         \n",
       "==============================================================================\n",
       "                 coef    std err          t      P>|t|      [0.025      0.975]\n",
       "------------------------------------------------------------------------------\n",
       "Intercept   4.559e+07   4.67e+07      0.977      0.331   -4.71e+07    1.38e+08\n",
       "intercept   4.559e+07   4.67e+07      0.977      0.331   -4.71e+07    1.38e+08\n",
       "Runtime     1.657e+06   4.64e+05      3.574      0.001    7.37e+05    2.58e+06\n",
       "PG         -1.256e+08   8.17e+07     -1.538      0.127   -2.88e+08    3.66e+07\n",
       "PG13       -1.745e+08      8e+07     -2.180      0.032   -3.33e+08   -1.56e+07\n",
       "R          -2.048e+08   8.01e+07     -2.555      0.012   -3.64e+08   -4.57e+07\n",
       "==============================================================================\n",
       "Omnibus:                       43.608   Durbin-Watson:                   0.448\n",
       "Prob(Omnibus):                  0.000   Jarque-Bera (JB):               95.295\n",
       "Skew:                           1.721   Prob(JB):                     2.03e-21\n",
       "Kurtosis:                       6.319   Cond. No.                     8.86e+17\n",
       "==============================================================================\n",
       "\n",
       "Warnings:\n",
       "[1] Standard Errors assume that the covariance matrix of the errors is correctly specified.\n",
       "[2] The smallest eigenvalue is 1.65e-30. This might indicate that there are\n",
       "strong multicollinearity problems or that the design matrix is singular.\n",
       "\"\"\""
      ]
     },
     "execution_count": 76,
     "metadata": {},
     "output_type": "execute_result"
    }
   ],
   "source": [
    "# Set up the feature and target matrices\n",
    "\n",
    "y,X = patsy.dmatrices('DomesticTotalGross ~ intercept + Runtime + PG + PG13 + R', data = df, return_type='dataframe')\n",
    "\n",
    "lm_c3 = sm.OLS(y, X, data=df) # Instantiate and train model\n",
    "\n",
    "results3 = lm_c3.fit() # Fit model, generate results\n",
    "\n",
    "results3.summary() # Summarize model"
   ]
  },
  {
   "cell_type": "markdown",
   "metadata": {},
   "source": [
    "$R^2$ went up even more, up to 0.215 (0.186 for adjusted due to the increased number of features). It is a better predictor with the added features"
   ]
  },
  {
   "cell_type": "markdown",
   "metadata": {},
   "source": [
    "## **CHALLENGE 4**"
   ]
  },
  {
   "cell_type": "code",
   "execution_count": 82,
   "metadata": {},
   "outputs": [],
   "source": [
    "# Create column with month released\n",
    "\n",
    "df['Month'] = pd.to_datetime(df.ReleaseDate).dt.month"
   ]
  },
  {
   "cell_type": "code",
   "execution_count": 90,
   "metadata": {},
   "outputs": [
    {
     "name": "stdout",
     "output_type": "stream",
     "text": [
      "<class 'pandas.core.frame.DataFrame'>\n",
      "RangeIndex: 100 entries, 0 to 99\n",
      "Data columns (total 12 columns):\n",
      "Title                 100 non-null object\n",
      "Budget                89 non-null float64\n",
      "DomesticTotalGross    100 non-null int64\n",
      "Director              96 non-null object\n",
      "Rating                100 non-null object\n",
      "Runtime               100 non-null int64\n",
      "ReleaseDate           100 non-null object\n",
      "PG                    100 non-null uint8\n",
      "PG13                  100 non-null uint8\n",
      "R                     100 non-null uint8\n",
      "intercept             100 non-null int64\n",
      "Month                 100 non-null int64\n",
      "dtypes: float64(1), int64(4), object(4), uint8(3)\n",
      "memory usage: 7.4+ KB\n"
     ]
    }
   ],
   "source": [
    "df.info()"
   ]
  },
  {
   "cell_type": "code",
   "execution_count": 94,
   "metadata": {},
   "outputs": [],
   "source": [
    "# Drop columns with no budget amount in new df\n",
    "\n",
    "small_df = df.dropna(subset=['Budget'])"
   ]
  },
  {
   "cell_type": "code",
   "execution_count": 96,
   "metadata": {},
   "outputs": [
    {
     "data": {
      "text/html": [
       "<table class=\"simpletable\">\n",
       "<caption>OLS Regression Results</caption>\n",
       "<tr>\n",
       "  <th>Dep. Variable:</th>    <td>DomesticTotalGross</td> <th>  R-squared:         </th> <td>   0.303</td>\n",
       "</tr>\n",
       "<tr>\n",
       "  <th>Model:</th>                    <td>OLS</td>        <th>  Adj. R-squared:    </th> <td>   0.261</td>\n",
       "</tr>\n",
       "<tr>\n",
       "  <th>Method:</th>              <td>Least Squares</td>   <th>  F-statistic:       </th> <td>   7.218</td>\n",
       "</tr>\n",
       "<tr>\n",
       "  <th>Date:</th>              <td>Sun, 13 Oct 2019</td>  <th>  Prob (F-statistic):</th> <td>1.18e-05</td>\n",
       "</tr>\n",
       "<tr>\n",
       "  <th>Time:</th>                  <td>14:04:03</td>      <th>  Log-Likelihood:    </th> <td> -1737.0</td>\n",
       "</tr>\n",
       "<tr>\n",
       "  <th>No. Observations:</th>       <td>    89</td>       <th>  AIC:               </th> <td>   3486.</td>\n",
       "</tr>\n",
       "<tr>\n",
       "  <th>Df Residuals:</th>           <td>    83</td>       <th>  BIC:               </th> <td>   3501.</td>\n",
       "</tr>\n",
       "<tr>\n",
       "  <th>Df Model:</th>               <td>     5</td>       <th>                     </th>     <td> </td>   \n",
       "</tr>\n",
       "<tr>\n",
       "  <th>Covariance Type:</th>       <td>nonrobust</td>     <th>                     </th>     <td> </td>   \n",
       "</tr>\n",
       "</table>\n",
       "<table class=\"simpletable\">\n",
       "<tr>\n",
       "      <td></td>         <th>coef</th>     <th>std err</th>      <th>t</th>      <th>P>|t|</th>  <th>[0.025</th>    <th>0.975]</th>  \n",
       "</tr>\n",
       "<tr>\n",
       "  <th>Intercept</th> <td>-6.102e+06</td> <td> 2.33e+07</td> <td>   -0.262</td> <td> 0.794</td> <td>-5.25e+07</td> <td> 4.03e+07</td>\n",
       "</tr>\n",
       "<tr>\n",
       "  <th>intercept</th> <td>-6.102e+06</td> <td> 2.33e+07</td> <td>   -0.262</td> <td> 0.794</td> <td>-5.25e+07</td> <td> 4.03e+07</td>\n",
       "</tr>\n",
       "<tr>\n",
       "  <th>Runtime</th>   <td> 5.499e+05</td> <td> 5.51e+05</td> <td>    0.998</td> <td> 0.321</td> <td>-5.46e+05</td> <td> 1.65e+06</td>\n",
       "</tr>\n",
       "<tr>\n",
       "  <th>PG</th>        <td> 1.459e+07</td> <td> 1.58e+07</td> <td>    0.925</td> <td> 0.358</td> <td>-1.68e+07</td> <td>  4.6e+07</td>\n",
       "</tr>\n",
       "<tr>\n",
       "  <th>PG13</th>      <td> -1.17e+07</td> <td> 1.55e+07</td> <td>   -0.753</td> <td> 0.453</td> <td>-4.26e+07</td> <td> 1.92e+07</td>\n",
       "</tr>\n",
       "<tr>\n",
       "  <th>R</th>         <td>-8.996e+06</td> <td> 1.65e+07</td> <td>   -0.545</td> <td> 0.587</td> <td>-4.18e+07</td> <td> 2.38e+07</td>\n",
       "</tr>\n",
       "<tr>\n",
       "  <th>Budget</th>    <td>    0.7160</td> <td>    0.170</td> <td>    4.208</td> <td> 0.000</td> <td>    0.378</td> <td>    1.055</td>\n",
       "</tr>\n",
       "<tr>\n",
       "  <th>Month</th>     <td> 8.671e+05</td> <td> 2.54e+06</td> <td>    0.342</td> <td> 0.733</td> <td>-4.18e+06</td> <td> 5.91e+06</td>\n",
       "</tr>\n",
       "</table>\n",
       "<table class=\"simpletable\">\n",
       "<tr>\n",
       "  <th>Omnibus:</th>       <td>35.764</td> <th>  Durbin-Watson:     </th> <td>   0.743</td>\n",
       "</tr>\n",
       "<tr>\n",
       "  <th>Prob(Omnibus):</th> <td> 0.000</td> <th>  Jarque-Bera (JB):  </th> <td>  78.218</td>\n",
       "</tr>\n",
       "<tr>\n",
       "  <th>Skew:</th>          <td> 1.485</td> <th>  Prob(JB):          </th> <td>1.04e-17</td>\n",
       "</tr>\n",
       "<tr>\n",
       "  <th>Kurtosis:</th>      <td> 6.503</td> <th>  Cond. No.          </th> <td>1.83e+25</td>\n",
       "</tr>\n",
       "</table><br/><br/>Warnings:<br/>[1] Standard Errors assume that the covariance matrix of the errors is correctly specified.<br/>[2] The smallest eigenvalue is 2.41e-33. This might indicate that there are<br/>strong multicollinearity problems or that the design matrix is singular."
      ],
      "text/plain": [
       "<class 'statsmodels.iolib.summary.Summary'>\n",
       "\"\"\"\n",
       "                            OLS Regression Results                            \n",
       "==============================================================================\n",
       "Dep. Variable:     DomesticTotalGross   R-squared:                       0.303\n",
       "Model:                            OLS   Adj. R-squared:                  0.261\n",
       "Method:                 Least Squares   F-statistic:                     7.218\n",
       "Date:                Sun, 13 Oct 2019   Prob (F-statistic):           1.18e-05\n",
       "Time:                        14:04:03   Log-Likelihood:                -1737.0\n",
       "No. Observations:                  89   AIC:                             3486.\n",
       "Df Residuals:                      83   BIC:                             3501.\n",
       "Df Model:                           5                                         \n",
       "Covariance Type:            nonrobust                                         \n",
       "==============================================================================\n",
       "                 coef    std err          t      P>|t|      [0.025      0.975]\n",
       "------------------------------------------------------------------------------\n",
       "Intercept  -6.102e+06   2.33e+07     -0.262      0.794   -5.25e+07    4.03e+07\n",
       "intercept  -6.102e+06   2.33e+07     -0.262      0.794   -5.25e+07    4.03e+07\n",
       "Runtime     5.499e+05   5.51e+05      0.998      0.321   -5.46e+05    1.65e+06\n",
       "PG          1.459e+07   1.58e+07      0.925      0.358   -1.68e+07     4.6e+07\n",
       "PG13        -1.17e+07   1.55e+07     -0.753      0.453   -4.26e+07    1.92e+07\n",
       "R          -8.996e+06   1.65e+07     -0.545      0.587   -4.18e+07    2.38e+07\n",
       "Budget         0.7160      0.170      4.208      0.000       0.378       1.055\n",
       "Month       8.671e+05   2.54e+06      0.342      0.733   -4.18e+06    5.91e+06\n",
       "==============================================================================\n",
       "Omnibus:                       35.764   Durbin-Watson:                   0.743\n",
       "Prob(Omnibus):                  0.000   Jarque-Bera (JB):               78.218\n",
       "Skew:                           1.485   Prob(JB):                     1.04e-17\n",
       "Kurtosis:                       6.503   Cond. No.                     1.83e+25\n",
       "==============================================================================\n",
       "\n",
       "Warnings:\n",
       "[1] Standard Errors assume that the covariance matrix of the errors is correctly specified.\n",
       "[2] The smallest eigenvalue is 2.41e-33. This might indicate that there are\n",
       "strong multicollinearity problems or that the design matrix is singular.\n",
       "\"\"\""
      ]
     },
     "execution_count": 96,
     "metadata": {},
     "output_type": "execute_result"
    }
   ],
   "source": [
    "# Set up the feature and target matrices\n",
    "\n",
    "y,X = patsy.dmatrices('DomesticTotalGross ~ intercept + Runtime + PG + PG13 + R + Budget + Month', data = small_df, return_type='dataframe')\n",
    "\n",
    "lm_c4 = sm.OLS(y, X, data=df) # Instantiate and train model\n",
    "\n",
    "results4 = lm_c4.fit() # Fit model, generate results\n",
    "\n",
    "results4.summary() # Summarize model"
   ]
  },
  {
   "cell_type": "markdown",
   "metadata": {},
   "source": [
    "Model performance improved slightly with the additional features"
   ]
  },
  {
   "cell_type": "markdown",
   "metadata": {},
   "source": [
    "## **CHALLENGE 5**"
   ]
  },
  {
   "cell_type": "code",
   "execution_count": 117,
   "metadata": {},
   "outputs": [
    {
     "data": {
      "text/html": [
       "<table class=\"simpletable\">\n",
       "<caption>OLS Regression Results</caption>\n",
       "<tr>\n",
       "  <th>Dep. Variable:</th>    <td>DomesticTotalGross</td> <th>  R-squared:         </th> <td>   0.272</td>\n",
       "</tr>\n",
       "<tr>\n",
       "  <th>Model:</th>                    <td>OLS</td>        <th>  Adj. R-squared:    </th> <td>   0.211</td>\n",
       "</tr>\n",
       "<tr>\n",
       "  <th>Method:</th>              <td>Least Squares</td>   <th>  F-statistic:       </th> <td>   4.475</td>\n",
       "</tr>\n",
       "<tr>\n",
       "  <th>Date:</th>              <td>Sun, 13 Oct 2019</td>  <th>  Prob (F-statistic):</th>  <td>0.00157</td>\n",
       "</tr>\n",
       "<tr>\n",
       "  <th>Time:</th>                  <td>14:15:00</td>      <th>  Log-Likelihood:    </th> <td> -1288.6</td>\n",
       "</tr>\n",
       "<tr>\n",
       "  <th>No. Observations:</th>       <td>    66</td>       <th>  AIC:               </th> <td>   2589.</td>\n",
       "</tr>\n",
       "<tr>\n",
       "  <th>Df Residuals:</th>           <td>    60</td>       <th>  BIC:               </th> <td>   2602.</td>\n",
       "</tr>\n",
       "<tr>\n",
       "  <th>Df Model:</th>               <td>     5</td>       <th>                     </th>     <td> </td>   \n",
       "</tr>\n",
       "<tr>\n",
       "  <th>Covariance Type:</th>       <td>nonrobust</td>     <th>                     </th>     <td> </td>   \n",
       "</tr>\n",
       "</table>\n",
       "<table class=\"simpletable\">\n",
       "<tr>\n",
       "      <td></td>         <th>coef</th>     <th>std err</th>      <th>t</th>      <th>P>|t|</th>  <th>[0.025</th>    <th>0.975]</th>  \n",
       "</tr>\n",
       "<tr>\n",
       "  <th>Intercept</th> <td> 1.228e+07</td> <td> 2.82e+07</td> <td>    0.436</td> <td> 0.665</td> <td>-4.41e+07</td> <td> 6.87e+07</td>\n",
       "</tr>\n",
       "<tr>\n",
       "  <th>intercept</th> <td> 1.228e+07</td> <td> 2.82e+07</td> <td>    0.436</td> <td> 0.665</td> <td>-4.41e+07</td> <td> 6.87e+07</td>\n",
       "</tr>\n",
       "<tr>\n",
       "  <th>Runtime</th>   <td> 1.998e+05</td> <td> 6.48e+05</td> <td>    0.308</td> <td> 0.759</td> <td> -1.1e+06</td> <td>  1.5e+06</td>\n",
       "</tr>\n",
       "<tr>\n",
       "  <th>PG</th>        <td> 2.321e+07</td> <td> 1.76e+07</td> <td>    1.318</td> <td> 0.192</td> <td> -1.2e+07</td> <td> 5.84e+07</td>\n",
       "</tr>\n",
       "<tr>\n",
       "  <th>PG13</th>      <td>-1.105e+07</td> <td> 1.87e+07</td> <td>   -0.592</td> <td> 0.556</td> <td>-4.84e+07</td> <td> 2.63e+07</td>\n",
       "</tr>\n",
       "<tr>\n",
       "  <th>R</th>         <td> 1.301e+05</td> <td> 2.09e+07</td> <td>    0.006</td> <td> 0.995</td> <td>-4.16e+07</td> <td> 4.19e+07</td>\n",
       "</tr>\n",
       "<tr>\n",
       "  <th>Budget</th>    <td>    0.7292</td> <td>    0.219</td> <td>    3.332</td> <td> 0.001</td> <td>    0.291</td> <td>    1.167</td>\n",
       "</tr>\n",
       "<tr>\n",
       "  <th>Month</th>     <td>-3.039e+05</td> <td> 2.99e+06</td> <td>   -0.101</td> <td> 0.920</td> <td>-6.29e+06</td> <td> 5.69e+06</td>\n",
       "</tr>\n",
       "</table>\n",
       "<table class=\"simpletable\">\n",
       "<tr>\n",
       "  <th>Omnibus:</th>       <td>26.131</td> <th>  Durbin-Watson:     </th> <td>   1.725</td>\n",
       "</tr>\n",
       "<tr>\n",
       "  <th>Prob(Omnibus):</th> <td> 0.000</td> <th>  Jarque-Bera (JB):  </th> <td>  44.109</td>\n",
       "</tr>\n",
       "<tr>\n",
       "  <th>Skew:</th>          <td> 1.433</td> <th>  Prob(JB):          </th> <td>2.64e-10</td>\n",
       "</tr>\n",
       "<tr>\n",
       "  <th>Kurtosis:</th>      <td> 5.797</td> <th>  Cond. No.          </th> <td>8.16e+23</td>\n",
       "</tr>\n",
       "</table><br/><br/>Warnings:<br/>[1] Standard Errors assume that the covariance matrix of the errors is correctly specified.<br/>[2] The smallest eigenvalue is 9.06e-31. This might indicate that there are<br/>strong multicollinearity problems or that the design matrix is singular."
      ],
      "text/plain": [
       "<class 'statsmodels.iolib.summary.Summary'>\n",
       "\"\"\"\n",
       "                            OLS Regression Results                            \n",
       "==============================================================================\n",
       "Dep. Variable:     DomesticTotalGross   R-squared:                       0.272\n",
       "Model:                            OLS   Adj. R-squared:                  0.211\n",
       "Method:                 Least Squares   F-statistic:                     4.475\n",
       "Date:                Sun, 13 Oct 2019   Prob (F-statistic):            0.00157\n",
       "Time:                        14:15:00   Log-Likelihood:                -1288.6\n",
       "No. Observations:                  66   AIC:                             2589.\n",
       "Df Residuals:                      60   BIC:                             2602.\n",
       "Df Model:                           5                                         \n",
       "Covariance Type:            nonrobust                                         \n",
       "==============================================================================\n",
       "                 coef    std err          t      P>|t|      [0.025      0.975]\n",
       "------------------------------------------------------------------------------\n",
       "Intercept   1.228e+07   2.82e+07      0.436      0.665   -4.41e+07    6.87e+07\n",
       "intercept   1.228e+07   2.82e+07      0.436      0.665   -4.41e+07    6.87e+07\n",
       "Runtime     1.998e+05   6.48e+05      0.308      0.759    -1.1e+06     1.5e+06\n",
       "PG          2.321e+07   1.76e+07      1.318      0.192    -1.2e+07    5.84e+07\n",
       "PG13       -1.105e+07   1.87e+07     -0.592      0.556   -4.84e+07    2.63e+07\n",
       "R           1.301e+05   2.09e+07      0.006      0.995   -4.16e+07    4.19e+07\n",
       "Budget         0.7292      0.219      3.332      0.001       0.291       1.167\n",
       "Month      -3.039e+05   2.99e+06     -0.101      0.920   -6.29e+06    5.69e+06\n",
       "==============================================================================\n",
       "Omnibus:                       26.131   Durbin-Watson:                   1.725\n",
       "Prob(Omnibus):                  0.000   Jarque-Bera (JB):               44.109\n",
       "Skew:                           1.433   Prob(JB):                     2.64e-10\n",
       "Kurtosis:                       5.797   Cond. No.                     8.16e+23\n",
       "==============================================================================\n",
       "\n",
       "Warnings:\n",
       "[1] Standard Errors assume that the covariance matrix of the errors is correctly specified.\n",
       "[2] The smallest eigenvalue is 9.06e-31. This might indicate that there are\n",
       "strong multicollinearity problems or that the design matrix is singular.\n",
       "\"\"\""
      ]
     },
     "execution_count": 117,
     "metadata": {},
     "output_type": "execute_result"
    }
   ],
   "source": [
    "# Set up the feature and target matrices\n",
    "\n",
    "y,X = patsy.dmatrices('DomesticTotalGross ~ intercept + Runtime + PG + PG13 + R + Budget + Month', data=df, return_type='dataframe')\n",
    "\n",
    "# 75/25 split train+val / test\n",
    "X_train, X_test, y_train, y_test = train_test_split(X, y, test_size=0.25,random_state=42)\n",
    "\n",
    "lm_c5 = sm.OLS(y_train, X_train, data=df) # Instantiate and train model\n",
    "\n",
    "results5 = lm_c5.fit() # Fit model, generate results\n",
    "\n",
    "results5.summary() # Summarize model"
   ]
  },
  {
   "cell_type": "code",
   "execution_count": 124,
   "metadata": {},
   "outputs": [
    {
     "data": {
      "image/png": "[encoded data removed]",
      "text/plain": [
       "<Figure size 432x288 with 1 Axes>"
      ]
     },
     "metadata": {
      "needs_background": "light"
     },
     "output_type": "display_data"
    }
   ],
   "source": [
    "y_pred = results5.predict(X_test)\n",
    "plt.scatter(y_pred,y_test)\n",
    "plt.plot([0,200000000], [0,2000000000])\n",
    "plt.xlabel('Predicted')\n",
    "plt.ylabel('Actual');"
   ]
  }
 ],
 "metadata": {
  "kernelspec": {
   "display_name": "Python [conda env:metis] *",
   "language": "python",
   "name": "conda-env-metis-py"
  },
  "language_info": {
   "codemirror_mode": {
    "name": "ipython",
    "version": 3
   },
   "file_extension": ".py",
   "mimetype": "text/x-python",
   "name": "python",
   "nbconvert_exporter": "python",
   "pygments_lexer": "ipython3",
   "version": "3.6.9"
  }
 },
 "nbformat": 4,
 "nbformat_minor": 4
}
