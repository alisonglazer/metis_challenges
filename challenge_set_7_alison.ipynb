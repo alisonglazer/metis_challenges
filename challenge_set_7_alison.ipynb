{
 "cells": [
  {
   "cell_type": "markdown",
   "metadata": {},
   "source": [
    "# Challenge Set 7 - Alison Glazer\n",
    "Topic: Challenge Set 7 Subject: Explore MTA turnstile data Date: 10/19/2019 Name: Alison Glazer Worked with: -- Location: https://github.com/alisonglazer/metis_challenges/blob/master/challenge_set_7_alison.ipynb"
   ]
  },
  {
   "cell_type": "code",
   "execution_count": 1,
   "metadata": {},
   "outputs": [
    {
     "name": "stdout",
     "output_type": "stream",
     "text": [
      "Python Version: 3.6.9 |Anaconda, Inc.| (default, Jul 30 2019, 13:42:17) \n",
      "[GCC 4.2.1 Compatible Clang 4.0.1 (tags/RELEASE_401/final)]\n"
     ]
    }
   ],
   "source": [
    "import sys\n",
    "print(\"Python Version:\", sys.version)"
   ]
  },
  {
   "cell_type": "code",
   "execution_count": 124,
   "metadata": {},
   "outputs": [],
   "source": [
    "# Import libraries\n",
    "import pandas as pd\n",
    "import numpy as np\n",
    "\n",
    "from sklearn.model_selection import train_test_split\n",
    "\n",
    "from sklearn.neighbors import KNeighborsClassifier\n",
    "from sklearn.linear_model import LogisticRegression\n",
    "\n",
    "from sklearn.metrics import accuracy_score\n",
    "\n",
    "from sklearn.model_selection import learning_curve\n",
    "\n",
    "import matplotlib.pyplot as plt\n",
    "%matplotlib inline\n"
   ]
  },
  {
   "cell_type": "markdown",
   "metadata": {},
   "source": [
    "## **CHALLENGE 1**"
   ]
  },
  {
   "cell_type": "markdown",
   "metadata": {},
   "source": [
    "**Settings: Where applicable, use test_size=.30, random_state=4444. This will permit comparison of results across users.\n",
    "\n"
   ]
  },
  {
   "cell_type": "code",
   "execution_count": 43,
   "metadata": {},
   "outputs": [],
   "source": [
    "df = pd.read_csv('https://archive.ics.uci.edu/ml/machine-learning-databases/voting-records/house-votes-84.data',header=None)"
   ]
  },
  {
   "cell_type": "code",
   "execution_count": 48,
   "metadata": {},
   "outputs": [],
   "source": [
    "# Replace y with 1 and n with 0\n",
    "df.replace(to_replace=['y','n','?'],value=[1,0,np.nan],inplace=True)\n",
    "\n",
    "# Fill nans with column mean\n",
    "df.fillna(value=df.mean(),inplace=True)"
   ]
  },
  {
   "cell_type": "markdown",
   "metadata": {},
   "source": [
    "## **CHALLENGE 2**"
   ]
  },
  {
   "cell_type": "code",
   "execution_count": 57,
   "metadata": {},
   "outputs": [],
   "source": [
    "# Set up features and target\n",
    "y = df[0]\n",
    "X_cols = np.arange(1,df.shape[1])\n",
    "X = df[X_cols]"
   ]
  },
  {
   "cell_type": "code",
   "execution_count": 59,
   "metadata": {},
   "outputs": [],
   "source": [
    "# Split data\n",
    "X_train,X_test,y_train,y_test = train_test_split(X,y,test_size=0.3, random_state=4444, stratify=y)"
   ]
  },
  {
   "cell_type": "markdown",
   "metadata": {},
   "source": [
    "## **CHALLENGE 3**"
   ]
  },
  {
   "cell_type": "code",
   "execution_count": 61,
   "metadata": {},
   "outputs": [],
   "source": [
    "# Don't need to scale data using standard scaler since data is all already on the same scale"
   ]
  },
  {
   "cell_type": "code",
   "execution_count": 67,
   "metadata": {},
   "outputs": [],
   "source": [
    "# Test neighbors\n",
    "acc_scores = []\n",
    "for n in range(1,21):\n",
    "    # Instantiate Model\n",
    "    knn = KNeighborsClassifier(n_neighbors=n)\n",
    "    \n",
    "    # Fit Model\n",
    "    knn.fit(X_train,y_train);\n",
    "    \n",
    "    # Calculate Accuracy Score\n",
    "    acc_scores.append((n,accuracy_score(y_test,knn.predict(X_test))))\n"
   ]
  },
  {
   "cell_type": "code",
   "execution_count": 71,
   "metadata": {},
   "outputs": [
    {
     "data": {
      "text/plain": [
       "[(1, 0.9389312977099237),\n",
       " (2, 0.9389312977099237),\n",
       " (3, 0.9541984732824428),\n",
       " (4, 0.9465648854961832),\n",
       " (5, 0.9618320610687023),\n",
       " (6, 0.9465648854961832),\n",
       " (7, 0.9465648854961832),\n",
       " (8, 0.9312977099236641),\n",
       " (9, 0.9541984732824428),\n",
       " (10, 0.9541984732824428),\n",
       " (11, 0.9541984732824428),\n",
       " (12, 0.9541984732824428),\n",
       " (13, 0.9541984732824428),\n",
       " (14, 0.9465648854961832),\n",
       " (15, 0.9541984732824428),\n",
       " (16, 0.9541984732824428),\n",
       " (17, 0.9541984732824428),\n",
       " (18, 0.9465648854961832),\n",
       " (19, 0.9541984732824428),\n",
       " (20, 0.9465648854961832)]"
      ]
     },
     "execution_count": 71,
     "metadata": {},
     "output_type": "execute_result"
    }
   ],
   "source": [
    "acc_scores"
   ]
  },
  {
   "cell_type": "code",
   "execution_count": 82,
   "metadata": {},
   "outputs": [
    {
     "name": "stdout",
     "output_type": "stream",
     "text": [
      "(K value, max accuracy) =  (5, 0.9618320610687023)\n"
     ]
    }
   ],
   "source": [
    "print('(K value, max accuracy) = ',max(acc_scores, key = lambda i : i[1]))"
   ]
  },
  {
   "cell_type": "markdown",
   "metadata": {},
   "source": [
    "## **CHALLENGE 4**"
   ]
  },
  {
   "cell_type": "code",
   "execution_count": 84,
   "metadata": {},
   "outputs": [],
   "source": [
    "# Instantiate model\n",
    "logreg = LogisticRegression(C=10,solver='lbfgs')\n",
    "\n",
    "# Fit model to the training data\n",
    "logreg.fit(X_train,y_train);"
   ]
  },
  {
   "cell_type": "code",
   "execution_count": 117,
   "metadata": {},
   "outputs": [
    {
     "data": {
      "text/plain": [
       "0.9694656488549618"
      ]
     },
     "execution_count": 117,
     "metadata": {},
     "output_type": "execute_result"
    }
   ],
   "source": [
    "# Calculate Accuracy\n",
    "logregacc = accuracy_score(y_test,logreg.predict(X_test))\n",
    "logregacc"
   ]
  },
  {
   "cell_type": "markdown",
   "metadata": {},
   "source": [
    "## **CHALLENGE 5**"
   ]
  },
  {
   "cell_type": "code",
   "execution_count": 98,
   "metadata": {},
   "outputs": [
    {
     "data": {
      "text/plain": [
       "democrat      267\n",
       "republican    168\n",
       "Name: 0, dtype: int64"
      ]
     },
     "execution_count": 98,
     "metadata": {},
     "output_type": "execute_result"
    },
    {
     "data": {
      "image/png": "[encoded data removed]",
      "text/plain": [
       "<Figure size 432x288 with 1 Axes>"
      ]
     },
     "metadata": {
      "needs_background": "light"
     },
     "output_type": "display_data"
    }
   ],
   "source": [
    "plt.bar(df[0].unique(),height=df[0].value_counts())\n",
    "plt.title('Democrats vs Republicans');\n",
    "df[0].value_counts()"
   ]
  },
  {
   "cell_type": "code",
   "execution_count": 102,
   "metadata": {},
   "outputs": [
    {
     "name": "stdout",
     "output_type": "stream",
     "text": [
      "Accuracy of \"democrat\" predictor:  0.6106870229007634\n",
      "Accuracy of \"republican\" predictor:  0.3893129770992366\n"
     ]
    }
   ],
   "source": [
    "silly_dem_predictor = ['democrat']*len(X_test)\n",
    "silly_rep_predictor = ['republican']*len(X_test)\n",
    "print('Accuracy of \"democrat\" predictor: ',accuracy_score(y_test,silly_dem_predictor))\n",
    "print('Accuracy of \"republican\" predictor: ',accuracy_score(y_test,silly_rep_predictor))"
   ]
  },
  {
   "cell_type": "markdown",
   "metadata": {},
   "source": [
    "## **CHALLENGE 6**"
   ]
  },
  {
   "cell_type": "code",
   "execution_count": 126,
   "metadata": {},
   "outputs": [
    {
     "data": {
      "image/png": "[encoded data removed]",
      "text/plain": [
       "<Figure size 432x288 with 1 Axes>"
      ]
     },
     "metadata": {
      "needs_background": "light"
     },
     "output_type": "display_data"
    }
   ],
   "source": [
    "plt.plot(*zip(*acc_scores))\n",
    "plt.plot([1,20],[logregacc, logregacc])\n",
    "plt.plot([1,20],[accuracy_score(y_test,silly_dem_predictor),accuracy_score(y_test,silly_dem_predictor)])\n",
    "plt.plot([1,20],[accuracy_score(y_test,silly_rep_predictor),accuracy_score(y_test,silly_rep_predictor)]);\n",
    "plt.title('Plotting Accuracy');"
   ]
  },
  {
   "cell_type": "markdown",
   "metadata": {},
   "source": [
    "## **CHALLENGE 7**"
   ]
  },
  {
   "cell_type": "code",
   "execution_count": 160,
   "metadata": {},
   "outputs": [],
   "source": [
    "# Log reg learning_curve\n",
    "m,train_err,test_err = learning_curve(LogisticRegression(solver='lbfgs'),X,y,cv=5)"
   ]
  },
  {
   "cell_type": "code",
   "execution_count": 161,
   "metadata": {},
   "outputs": [],
   "source": [
    "mean_train_err = [np.mean(x) for x in train_err]\n",
    "mean_test_err = [np.mean(x) for x in test_err]"
   ]
  },
  {
   "cell_type": "code",
   "execution_count": 162,
   "metadata": {},
   "outputs": [],
   "source": [
    "# KNN learning curve\n",
    "m_knn, train_err_knn, test_err_knn = learning_curve(KNeighborsClassifier(n_neighbors=5),X,y,cv=5)"
   ]
  },
  {
   "cell_type": "code",
   "execution_count": 163,
   "metadata": {},
   "outputs": [],
   "source": [
    "mean_train_err_knn = [np.mean(x) for x in train_err_knn]\n",
    "mean_test_err_knn = [np.mean(x) for x in test_err_knn]"
   ]
  },
  {
   "cell_type": "code",
   "execution_count": 164,
   "metadata": {},
   "outputs": [
    {
     "data": {
      "image/png": "[encoded data removed]",
      "text/plain": [
       "<Figure size 432x288 with 1 Axes>"
      ]
     },
     "metadata": {
      "needs_background": "light"
     },
     "output_type": "display_data"
    }
   ],
   "source": [
    "plt.plot(m,mean_test_err)\n",
    "plt.plot(m,mean_train_err)\n",
    "plt.plot(m,mean_test_err_knn)\n",
    "plt.plot(m,mean_train_err_knn)\n",
    "plt.legend(['LogReg Test Error','LogRegTrain Error','KNN Test Error','KNN Train Error'])\n",
    "plt.title('Learning Curves');"
   ]
  },
  {
   "cell_type": "markdown",
   "metadata": {},
   "source": [
    "## **CHALLENGE 8**"
   ]
  },
  {
   "cell_type": "code",
   "execution_count": 165,
   "metadata": {},
   "outputs": [],
   "source": [
    "from sklearn.naive_bayes import GaussianNB\n",
    "from sklearn.svm import SVC\n",
    "from sklearn.tree import DecisionTreeClassifier\n",
    "from sklearn.ensemble import RandomForestClassifier"
   ]
  },
  {
   "cell_type": "code",
   "execution_count": 170,
   "metadata": {},
   "outputs": [
    {
     "name": "stdout",
     "output_type": "stream",
     "text": [
      "GaussianNB Accuracy = 0.916031\n",
      "Support Vector Machine Accuracy = 0.916031\n",
      "Decision Tree Accuracy = 0.938931\n",
      "Random Forest Accuracy = 0.938931\n"
     ]
    },
    {
     "name": "stderr",
     "output_type": "stream",
     "text": [
      "/anaconda3/envs/metis/lib/python3.6/site-packages/sklearn/svm/base.py:193: FutureWarning: The default value of gamma will change from 'auto' to 'scale' in version 0.22 to account better for unscaled features. Set gamma explicitly to 'auto' or 'scale' to avoid this warning.\n",
      "  \"avoid this warning.\", FutureWarning)\n",
      "/anaconda3/envs/metis/lib/python3.6/site-packages/sklearn/ensemble/forest.py:245: FutureWarning: The default value of n_estimators will change from 10 in version 0.20 to 100 in 0.22.\n",
      "  \"10 in version 0.20 to 100 in 0.22.\", FutureWarning)\n"
     ]
    }
   ],
   "source": [
    "gnb = GaussianNB()\n",
    "gnb.fit(X_train,y_train)\n",
    "print('GaussianNB Accuracy = {:5f}'.format(accuracy_score(y_test,gnb.predict(X_test))))\n",
    "\n",
    "svc = SVC()\n",
    "svc.fit(X_train,y_train)\n",
    "print('Support Vector Machine Accuracy = {:5f}'.format(accuracy_score(y_test,gnb.predict(X_test))))\n",
    "\n",
    "dectree = DecisionTreeClassifier()\n",
    "dectree.fit(X_train,y_train)\n",
    "print('Decision Tree Accuracy = {:5f}'.format(accuracy_score(y_test,dectree.predict(X_test))))\n",
    "\n",
    "rf = RandomForestClassifier()\n",
    "rf.fit(X_train,y_train)\n",
    "print('Random Forest Accuracy = {:5f}'.format(accuracy_score(y_test,rf.predict(X_test))))"
   ]
  },
  {
   "cell_type": "markdown",
   "metadata": {},
   "source": [
    "## **CHALLENGE 9**"
   ]
  },
  {
   "cell_type": "code",
   "execution_count": 172,
   "metadata": {},
   "outputs": [],
   "source": [
    "from sklearn.model_selection import cross_val_score"
   ]
  },
  {
   "cell_type": "code",
   "execution_count": 187,
   "metadata": {},
   "outputs": [
    {
     "name": "stdout",
     "output_type": "stream",
     "text": [
      "logreg accuracy: 0.953912\n",
      "knn accuracy: 0.933326\n",
      "GaussianNB accuracy: 0.940144\n",
      "Support Vector accuracy: 0.953965\n",
      "Decision Tree accuracy: 0.935492\n",
      "Random Forest accuracy: 0.960731\n"
     ]
    },
    {
     "name": "stderr",
     "output_type": "stream",
     "text": [
      "/anaconda3/envs/metis/lib/python3.6/site-packages/sklearn/svm/base.py:193: FutureWarning: The default value of gamma will change from 'auto' to 'scale' in version 0.22 to account better for unscaled features. Set gamma explicitly to 'auto' or 'scale' to avoid this warning.\n",
      "  \"avoid this warning.\", FutureWarning)\n",
      "/anaconda3/envs/metis/lib/python3.6/site-packages/sklearn/svm/base.py:193: FutureWarning: The default value of gamma will change from 'auto' to 'scale' in version 0.22 to account better for unscaled features. Set gamma explicitly to 'auto' or 'scale' to avoid this warning.\n",
      "  \"avoid this warning.\", FutureWarning)\n",
      "/anaconda3/envs/metis/lib/python3.6/site-packages/sklearn/svm/base.py:193: FutureWarning: The default value of gamma will change from 'auto' to 'scale' in version 0.22 to account better for unscaled features. Set gamma explicitly to 'auto' or 'scale' to avoid this warning.\n",
      "  \"avoid this warning.\", FutureWarning)\n",
      "/anaconda3/envs/metis/lib/python3.6/site-packages/sklearn/svm/base.py:193: FutureWarning: The default value of gamma will change from 'auto' to 'scale' in version 0.22 to account better for unscaled features. Set gamma explicitly to 'auto' or 'scale' to avoid this warning.\n",
      "  \"avoid this warning.\", FutureWarning)\n",
      "/anaconda3/envs/metis/lib/python3.6/site-packages/sklearn/svm/base.py:193: FutureWarning: The default value of gamma will change from 'auto' to 'scale' in version 0.22 to account better for unscaled features. Set gamma explicitly to 'auto' or 'scale' to avoid this warning.\n",
      "  \"avoid this warning.\", FutureWarning)\n",
      "/anaconda3/envs/metis/lib/python3.6/site-packages/sklearn/ensemble/forest.py:245: FutureWarning: The default value of n_estimators will change from 10 in version 0.20 to 100 in 0.22.\n",
      "  \"10 in version 0.20 to 100 in 0.22.\", FutureWarning)\n",
      "/anaconda3/envs/metis/lib/python3.6/site-packages/sklearn/ensemble/forest.py:245: FutureWarning: The default value of n_estimators will change from 10 in version 0.20 to 100 in 0.22.\n",
      "  \"10 in version 0.20 to 100 in 0.22.\", FutureWarning)\n",
      "/anaconda3/envs/metis/lib/python3.6/site-packages/sklearn/ensemble/forest.py:245: FutureWarning: The default value of n_estimators will change from 10 in version 0.20 to 100 in 0.22.\n",
      "  \"10 in version 0.20 to 100 in 0.22.\", FutureWarning)\n",
      "/anaconda3/envs/metis/lib/python3.6/site-packages/sklearn/ensemble/forest.py:245: FutureWarning: The default value of n_estimators will change from 10 in version 0.20 to 100 in 0.22.\n",
      "  \"10 in version 0.20 to 100 in 0.22.\", FutureWarning)\n",
      "/anaconda3/envs/metis/lib/python3.6/site-packages/sklearn/ensemble/forest.py:245: FutureWarning: The default value of n_estimators will change from 10 in version 0.20 to 100 in 0.22.\n",
      "  \"10 in version 0.20 to 100 in 0.22.\", FutureWarning)\n"
     ]
    }
   ],
   "source": [
    "cv_logreg = np.mean(cross_val_score(LogisticRegression(solver='lbfgs'),X,y,scoring='accuracy',cv=5))\n",
    "cv_knn = np.mean(cross_val_score(KNeighborsClassifier(n_neighbors=5),X,y,scoring='accuracy',cv=5))\n",
    "cv_gnb = np.mean(cross_val_score(GaussianNB(),X,y,scoring='accuracy',cv=5))\n",
    "cv_svc = np.mean(cross_val_score(SVC(),X,y,scoring='accuracy',cv=5))\n",
    "cv_dt = np.mean(cross_val_score(DecisionTreeClassifier(),X,y,scoring='accuracy',cv=5))\n",
    "cv_rf = np.mean(cross_val_score(RandomForestClassifier(),X,y,scoring='accuracy',cv=5))\n",
    "\n",
    "print('logreg accuracy: {:5f}'.format(cv_logreg))\n",
    "print('knn accuracy: {:5f}'.format(cv_knn))\n",
    "print('GaussianNB accuracy: {:5f}'.format(cv_gnb))\n",
    "print('Support Vector accuracy: {:5f}'.format(cv_svc))\n",
    "print('Decision Tree accuracy: {:5f}'.format(cv_dt))\n",
    "print('Random Forest accuracy: {:5f}'.format(cv_rf))"
   ]
  },
  {
   "cell_type": "markdown",
   "metadata": {},
   "source": [
    "## **CHALLENGE 10**"
   ]
  },
  {
   "cell_type": "code",
   "execution_count": 225,
   "metadata": {},
   "outputs": [],
   "source": [
    "df = pd.read_csv('https://archive.ics.uci.edu/ml/machine-learning-databases/voting-records/house-votes-84.data',header=None)\n",
    "\n",
    "# Replace y with 1 and n with 0\n",
    "df.replace(to_replace=['y','n','?'],value=[1,0,np.nan],inplace=True)\n",
    "\n",
    "# Fill nans with column mean\n",
    "for column in df.columns:\n",
    "    df[column].fillna(df[column].mode()[0], inplace=True)"
   ]
  },
  {
   "cell_type": "code",
   "execution_count": 226,
   "metadata": {},
   "outputs": [],
   "source": [
    "# Set up features and target\n",
    "y = df[1]\n",
    "X_cols = np.arange(2,df.shape[1])\n",
    "X = df[X_cols]"
   ]
  },
  {
   "cell_type": "code",
   "execution_count": 228,
   "metadata": {},
   "outputs": [
    {
     "name": "stdout",
     "output_type": "stream",
     "text": [
      "logreg accuracy: 0.666525\n",
      "knn accuracy: 0.650510\n"
     ]
    }
   ],
   "source": [
    "cv_logreg = np.mean(cross_val_score(LogisticRegression(solver='lbfgs'),X,y,scoring='accuracy',cv=5))\n",
    "cv_knn = np.mean(cross_val_score(KNeighborsClassifier(n_neighbors=5),X,y,scoring='accuracy',cv=5))\n",
    "print('logreg accuracy: {:5f}'.format(cv_logreg))\n",
    "print('knn accuracy: {:5f}'.format(cv_knn))"
   ]
  },
  {
   "cell_type": "markdown",
   "metadata": {},
   "source": [
    "## **CHALLENGE 11**"
   ]
  },
  {
   "cell_type": "code",
   "execution_count": 229,
   "metadata": {},
   "outputs": [],
   "source": [
    "df = pd.read_csv('challenges_data/2013_movies.csv')"
   ]
  },
  {
   "cell_type": "code",
   "execution_count": 234,
   "metadata": {},
   "outputs": [
    {
     "data": {
      "image/png": "[encoded data removed]",
      "text/plain": [
       "<Figure size 432x288 with 1 Axes>"
      ]
     },
     "metadata": {
      "needs_background": "light"
     },
     "output_type": "display_data"
    }
   ],
   "source": [
    "plt.bar(df.Rating.unique(),df.Rating.value_counts());"
   ]
  },
  {
   "cell_type": "code",
   "execution_count": 283,
   "metadata": {},
   "outputs": [],
   "source": [
    "df.ReleaseDate = pd.to_datetime(df.ReleaseDate)\n",
    "df['month'] = df.ReleaseDate.map(lambda x: x.month)\n",
    "\n",
    "df.Budget.fillna(df.Budget.mean(),inplace=True)"
   ]
  },
  {
   "cell_type": "code",
   "execution_count": 297,
   "metadata": {},
   "outputs": [
    {
     "name": "stderr",
     "output_type": "stream",
     "text": [
      "/anaconda3/envs/metis/lib/python3.6/site-packages/ipykernel_launcher.py:2: SettingWithCopyWarning: \n",
      "A value is trying to be set on a copy of a slice from a DataFrame\n",
      "\n",
      "See the caveats in the documentation: http://pandas.pydata.org/pandas-docs/stable/user_guide/indexing.html#returning-a-view-versus-a-copy\n",
      "  \n",
      "/anaconda3/envs/metis/lib/python3.6/site-packages/ipykernel_launcher.py:3: SettingWithCopyWarning: \n",
      "A value is trying to be set on a copy of a slice from a DataFrame\n",
      "\n",
      "See the caveats in the documentation: http://pandas.pydata.org/pandas-docs/stable/user_guide/indexing.html#returning-a-view-versus-a-copy\n",
      "  This is separate from the ipykernel package so we can avoid doing imports until\n"
     ]
    }
   ],
   "source": [
    "df['RuntimeCat'] = df.Runtime\n",
    "df.RuntimeCat[df.Runtime>100] = 1\n",
    "df.RuntimeCat[df.Runtime<=100] = 0"
   ]
  },
  {
   "cell_type": "code",
   "execution_count": 298,
   "metadata": {},
   "outputs": [],
   "source": [
    "y=df['RuntimeCat']\n",
    "X_cols = ['Budget','DomesticTotalGross','month']\n",
    "X = df[X_cols]"
   ]
  },
  {
   "cell_type": "code",
   "execution_count": 311,
   "metadata": {},
   "outputs": [
    {
     "name": "stdout",
     "output_type": "stream",
     "text": [
      "Dummy accuracy: 0.7\n",
      "LogReg accuracy: 0.7\n",
      "KNN accuracy: 0.6333333333333333\n"
     ]
    }
   ],
   "source": [
    "from sklearn.preprocessing import StandardScaler\n",
    "\n",
    "X_train,X_test,y_train,y_test = train_test_split(X,y,test_size=0.3, random_state=4444,stratify=y)\n",
    "\n",
    "scaler = StandardScaler()\n",
    "\n",
    "\n",
    "# Fit the scaler using the training data and scale it\n",
    "X_train_scaled = pd.DataFrame(scaler.fit_transform(X_train.values),\n",
    "                              columns=X.columns)\n",
    "\n",
    "# Scale the test data\n",
    "X_test_scaled = pd.DataFrame(scaler.transform(X_test.values), columns=X.columns)\n",
    "\n",
    "lr = LogisticRegression(solver='lbfgs')\n",
    "lr.fit(X_train_scaled,y_train)\n",
    "knn = KNeighborsClassifier(n_neighbors=5)\n",
    "knn.fit(X_train_scaled,y_train)\n",
    "print('Dummy accuracy: {}'.format(accuracy_score(y_test,[1]*len(X_test))))\n",
    "print('LogReg accuracy: {}'.format(accuracy_score(y_test,lr.predict(X_test_scaled))))\n",
    "print('KNN accuracy: {}'.format(accuracy_score(y_test,knn.predict(X_test_scaled))))"
   ]
  },
  {
   "cell_type": "code",
   "execution_count": 305,
   "metadata": {},
   "outputs": [
    {
     "data": {
      "text/plain": [
       "[('Budget', 4.685725396943777e-09),\n",
       " ('DomesticTotalGross', 2.7906683084471867e-09),\n",
       " ('month', 3.794769507711822e-15)]"
      ]
     },
     "execution_count": 305,
     "metadata": {},
     "output_type": "execute_result"
    }
   ],
   "source": [
    "list(zip(X_cols,lr.coef_[0]))"
   ]
  },
  {
   "cell_type": "markdown",
   "metadata": {},
   "source": [
    "## **CHALLENGE 12**"
   ]
  },
  {
   "cell_type": "code",
   "execution_count": 312,
   "metadata": {},
   "outputs": [],
   "source": [
    "df = pd.read_csv('https://archive.ics.uci.edu/ml/machine-learning-databases/haberman/haberman.data',header=None)"
   ]
  },
  {
   "cell_type": "code",
   "execution_count": 314,
   "metadata": {},
   "outputs": [
    {
     "data": {
      "text/html": [
       "<div>\n",
       "<style scoped>\n",
       "    .dataframe tbody tr th:only-of-type {\n",
       "        vertical-align: middle;\n",
       "    }\n",
       "\n",
       "    .dataframe tbody tr th {\n",
       "        vertical-align: top;\n",
       "    }\n",
       "\n",
       "    .dataframe thead th {\n",
       "        text-align: right;\n",
       "    }\n",
       "</style>\n",
       "<table border=\"1\" class=\"dataframe\">\n",
       "  <thead>\n",
       "    <tr style=\"text-align: right;\">\n",
       "      <th></th>\n",
       "      <th>0</th>\n",
       "      <th>1</th>\n",
       "      <th>2</th>\n",
       "      <th>3</th>\n",
       "    </tr>\n",
       "  </thead>\n",
       "  <tbody>\n",
       "    <tr>\n",
       "      <td>0</td>\n",
       "      <td>30</td>\n",
       "      <td>64</td>\n",
       "      <td>1</td>\n",
       "      <td>1</td>\n",
       "    </tr>\n",
       "    <tr>\n",
       "      <td>1</td>\n",
       "      <td>30</td>\n",
       "      <td>62</td>\n",
       "      <td>3</td>\n",
       "      <td>1</td>\n",
       "    </tr>\n",
       "    <tr>\n",
       "      <td>2</td>\n",
       "      <td>30</td>\n",
       "      <td>65</td>\n",
       "      <td>0</td>\n",
       "      <td>1</td>\n",
       "    </tr>\n",
       "    <tr>\n",
       "      <td>3</td>\n",
       "      <td>31</td>\n",
       "      <td>59</td>\n",
       "      <td>2</td>\n",
       "      <td>1</td>\n",
       "    </tr>\n",
       "    <tr>\n",
       "      <td>4</td>\n",
       "      <td>31</td>\n",
       "      <td>65</td>\n",
       "      <td>4</td>\n",
       "      <td>1</td>\n",
       "    </tr>\n",
       "    <tr>\n",
       "      <td>...</td>\n",
       "      <td>...</td>\n",
       "      <td>...</td>\n",
       "      <td>...</td>\n",
       "      <td>...</td>\n",
       "    </tr>\n",
       "    <tr>\n",
       "      <td>301</td>\n",
       "      <td>75</td>\n",
       "      <td>62</td>\n",
       "      <td>1</td>\n",
       "      <td>1</td>\n",
       "    </tr>\n",
       "    <tr>\n",
       "      <td>302</td>\n",
       "      <td>76</td>\n",
       "      <td>67</td>\n",
       "      <td>0</td>\n",
       "      <td>1</td>\n",
       "    </tr>\n",
       "    <tr>\n",
       "      <td>303</td>\n",
       "      <td>77</td>\n",
       "      <td>65</td>\n",
       "      <td>3</td>\n",
       "      <td>1</td>\n",
       "    </tr>\n",
       "    <tr>\n",
       "      <td>304</td>\n",
       "      <td>78</td>\n",
       "      <td>65</td>\n",
       "      <td>1</td>\n",
       "      <td>2</td>\n",
       "    </tr>\n",
       "    <tr>\n",
       "      <td>305</td>\n",
       "      <td>83</td>\n",
       "      <td>58</td>\n",
       "      <td>2</td>\n",
       "      <td>2</td>\n",
       "    </tr>\n",
       "  </tbody>\n",
       "</table>\n",
       "<p>306 rows × 4 columns</p>\n",
       "</div>"
      ],
      "text/plain": [
       "      0   1  2  3\n",
       "0    30  64  1  1\n",
       "1    30  62  3  1\n",
       "2    30  65  0  1\n",
       "3    31  59  2  1\n",
       "4    31  65  4  1\n",
       "..   ..  .. .. ..\n",
       "301  75  62  1  1\n",
       "302  76  67  0  1\n",
       "303  77  65  3  1\n",
       "304  78  65  1  2\n",
       "305  83  58  2  2\n",
       "\n",
       "[306 rows x 4 columns]"
      ]
     },
     "execution_count": 314,
     "metadata": {},
     "output_type": "execute_result"
    }
   ],
   "source": [
    "df"
   ]
  },
  {
   "cell_type": "code",
   "execution_count": 316,
   "metadata": {},
   "outputs": [
    {
     "name": "stdout",
     "output_type": "stream",
     "text": [
      "mean age =  52.45751633986928\n",
      "standard deviation age =  10.785785203631832\n"
     ]
    }
   ],
   "source": [
    "# What is the average and standard deviation of the age of all of the patients? \n",
    "print('mean age = ',np.mean(df[0]))\n",
    "print('standard deviation age = ',np.std(df[0]))"
   ]
  },
  {
   "cell_type": "code",
   "execution_count": 320,
   "metadata": {},
   "outputs": [
    {
     "name": "stdout",
     "output_type": "stream",
     "text": [
      "mean age =  52.01777777777778\n",
      "standard deviation age =  10.987655475100508\n"
     ]
    }
   ],
   "source": [
    "# What is the average and standard deviation of the age of those patients that survived 5 or more years after surgery?\n",
    "survivedf = df[df[3]==1]\n",
    "print('mean age = ',np.mean(survivedf[0]))\n",
    "print('standard deviation age = ',np.std(survivedf[0]))"
   ]
  },
  {
   "cell_type": "code",
   "execution_count": 322,
   "metadata": {},
   "outputs": [
    {
     "name": "stdout",
     "output_type": "stream",
     "text": [
      "mean age =  53.67901234567901\n",
      "standard deviation age =  10.104182193031312\n"
     ]
    }
   ],
   "source": [
    "# What is the average and standard deviation of the age of those patients who survived fewer than 5 years after surgery?\n",
    "notsurvivedf = df[df[3]==2]\n",
    "print('mean age = ',np.mean(notsurvivedf[0]))\n",
    "print('standard deviation age = ',np.std(notsurvivedf[0]))"
   ]
  },
  {
   "cell_type": "code",
   "execution_count": 326,
   "metadata": {},
   "outputs": [
    {
     "data": {
      "image/png": "[encoded data removed]",
      "text/plain": [
       "<Figure size 432x288 with 2 Axes>"
      ]
     },
     "metadata": {
      "needs_background": "light"
     },
     "output_type": "display_data"
    }
   ],
   "source": [
    "# Plot a histogram of the ages side by side with a histogram of the number of axillary nodes.\n",
    "plt.subplot(1,2,1)\n",
    "plt.hist(df[0])\n",
    "plt.title('age')\n",
    "plt.subplot(1,2,2)\n",
    "plt.hist(df[3])\n",
    "plt.title('nodes');"
   ]
  },
  {
   "cell_type": "code",
   "execution_count": 327,
   "metadata": {},
   "outputs": [
    {
     "data": {
      "text/plain": [
       "58"
      ]
     },
     "execution_count": 327,
     "metadata": {},
     "output_type": "execute_result"
    }
   ],
   "source": [
    "# What is the earliest year of surgery in this dataset?\n",
    "df[1].min()"
   ]
  },
  {
   "cell_type": "code",
   "execution_count": 329,
   "metadata": {},
   "outputs": [
    {
     "data": {
      "text/plain": [
       "69"
      ]
     },
     "execution_count": 329,
     "metadata": {},
     "output_type": "execute_result"
    }
   ],
   "source": [
    "# What is the most recent year of surgery?\n",
    "df[1].max()"
   ]
  },
  {
   "cell_type": "code",
   "execution_count": 352,
   "metadata": {},
   "outputs": [
    {
     "data": {
      "text/plain": [
       "0.6666666666666666"
      ]
     },
     "execution_count": 352,
     "metadata": {},
     "output_type": "execute_result"
    }
   ],
   "source": [
    "# Use logistic regression to predict survival after 5 years. How well does your model do?\n",
    "# 1 = survival\n",
    "df[3].replace(to_replace=2,value=0,inplace=True)\n",
    "\n",
    "X=df.loc[:,0:2]\n",
    "y=df[3]\n",
    "\n",
    "X_train,X_test,y_train,y_test = train_test_split(X,y,test_size=3,random_state=4444,stratify=y)\n",
    "\n",
    "scaler = StandardScaler()\n",
    "X_train_scaled = scaler.fit_transform(X_train.values)\n",
    "X_test_scaled = scaler.transform(X_test.values)\n",
    "\n",
    "lr=LogisticRegression(solver='lbfgs')\n",
    "lr.fit(X_train_scaled,y_train)\n",
    "accuracy_score(y_test,lr.predict(X_test_scaled))"
   ]
  },
  {
   "cell_type": "code",
   "execution_count": 353,
   "metadata": {},
   "outputs": [
    {
     "data": {
      "text/plain": [
       "[(0, -0.2022821505090282), (1, 0.013922586759890531), (2, -0.6222485351971992)]"
      ]
     },
     "execution_count": 353,
     "metadata": {},
     "output_type": "execute_result"
    }
   ],
   "source": [
    "# What are the coefficients of logistic regression? Which features affect the outcome how?\n",
    "\n",
    "list(zip(X.columns,lr.coef_[0]))"
   ]
  },
  {
   "cell_type": "code",
   "execution_count": 354,
   "metadata": {},
   "outputs": [
    {
     "data": {
      "image/png": "[encoded data removed]",
      "text/plain": [
       "<Figure size 432x288 with 1 Axes>"
      ]
     },
     "metadata": {
      "needs_background": "light"
     },
     "output_type": "display_data"
    }
   ],
   "source": [
    "# Draw the learning curve for logistic regression in this case.\n",
    "m,train_err,test_err = learning_curve(LogisticRegression(solver='lbfgs'),X,y,cv=5)\n",
    "plt.plot(m,mean_test_err)\n",
    "plt.plot(m,mean_train_err)\n",
    "plt.legend(['LogReg Test Error','LogRegTrain Error'])\n",
    "plt.title('Learning Curves');"
   ]
  }
 ],
 "metadata": {
  "kernelspec": {
   "display_name": "Python [conda env:metis] *",
   "language": "python",
   "name": "conda-env-metis-py"
  },
  "language_info": {
   "codemirror_mode": {
    "name": "ipython",
    "version": 3
   },
   "file_extension": ".py",
   "mimetype": "text/x-python",
   "name": "python",
   "nbconvert_exporter": "python",
   "pygments_lexer": "ipython3",
   "version": "3.6.9"
  }
 },
 "nbformat": 4,
 "nbformat_minor": 4
}
