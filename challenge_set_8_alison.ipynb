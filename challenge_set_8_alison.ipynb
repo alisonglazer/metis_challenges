{
 "cells": [
  {
   "cell_type": "markdown",
   "metadata": {},
   "source": [
    "# Challenge Set 8 - Alison Glazer\n",
    "Topic: Challenge Set 8 Subject: Classification Error Metrics Date: 10/20/2019 Name: Alison Glazer Worked with: -- Location: https://github.com/alisonglazer/metis_challenges/blob/master/challenge_set_8_alison.ipynb"
   ]
  },
  {
   "cell_type": "code",
   "execution_count": 2,
   "metadata": {},
   "outputs": [
    {
     "name": "stdout",
     "output_type": "stream",
     "text": [
      "Python Version: 3.6.9 |Anaconda, Inc.| (default, Jul 30 2019, 13:42:17) \n",
      "[GCC 4.2.1 Compatible Clang 4.0.1 (tags/RELEASE_401/final)]\n"
     ]
    }
   ],
   "source": [
    "import sys\n",
    "print(\"Python Version:\", sys.version)"
   ]
  },
  {
   "cell_type": "code",
   "execution_count": 3,
   "metadata": {},
   "outputs": [],
   "source": [
    "# Import libraries\n",
    "import pandas as pd\n",
    "import numpy as np\n",
    "\n",
    "from sklearn.model_selection import train_test_split\n",
    "\n",
    "from sklearn.neighbors import KNeighborsClassifier\n",
    "from sklearn.linear_model import LogisticRegression\n",
    "\n",
    "from sklearn.metrics import accuracy_score\n",
    "\n",
    "from sklearn.model_selection import learning_curve\n",
    "\n",
    "import matplotlib.pyplot as plt\n",
    "%matplotlib inline\n",
    "\n",
    "from sklearn.naive_bayes import GaussianNB\n",
    "from sklearn.svm import SVC\n",
    "from sklearn.tree import DecisionTreeClassifier\n",
    "from sklearn.ensemble import RandomForestClassifier\n",
    "\n",
    "from sklearn.metrics import precision_score, recall_score, precision_recall_curve,f1_score, fbeta_score\n"
   ]
  },
  {
   "cell_type": "markdown",
   "metadata": {},
   "source": [
    "## **CHALLENGE 1**"
   ]
  },
  {
   "cell_type": "markdown",
   "metadata": {},
   "source": [
    "**Settings: Where applicable, use test_size=.30, random_state=4444. This will permit comparison of results across users.\n",
    "\n"
   ]
  },
  {
   "cell_type": "code",
   "execution_count": 4,
   "metadata": {},
   "outputs": [],
   "source": [
    "df = pd.read_csv('https://archive.ics.uci.edu/ml/machine-learning-databases/voting-records/house-votes-84.data',header=None)"
   ]
  },
  {
   "cell_type": "code",
   "execution_count": 5,
   "metadata": {},
   "outputs": [],
   "source": [
    "# Replace y with 1 and n with 0\n",
    "df.replace(to_replace=['y','n','?'],value=[1,0,np.nan],inplace=True)\n",
    "\n",
    "# Fill nans with column mean\n",
    "df.fillna(value=df.mean(),inplace=True)\n",
    "\n",
    "# Set democrat=1,republican=0\n",
    "df.replace(to_replace=['democrat','republican'],value=[1,0],inplace=True)"
   ]
  },
  {
   "cell_type": "code",
   "execution_count": 6,
   "metadata": {},
   "outputs": [],
   "source": [
    "# Set up features and target\n",
    "y = df[0]\n",
    "X_cols = np.arange(1,df.shape[1])\n",
    "X = df[X_cols]"
   ]
  },
  {
   "cell_type": "code",
   "execution_count": 7,
   "metadata": {},
   "outputs": [],
   "source": [
    "# Split data\n",
    "X_train,X_test,y_train,y_test = train_test_split(X,y,test_size=0.3, random_state=4444, stratify=y)"
   ]
  },
  {
   "cell_type": "code",
   "execution_count": 16,
   "metadata": {},
   "outputs": [
    {
     "name": "stdout",
     "output_type": "stream",
     "text": [
      "LogReg Accuracy = 0.954198\n",
      "LogReg Accuracy = 0.977099\n",
      "GaussianNB Accuracy = 0.969466\n",
      "Support Vector Machine Accuracy = 0.969466\n",
      "Decision Tree Accuracy = 0.969466\n",
      "Random Forest Accuracy = 0.969466\n"
     ]
    },
    {
     "name": "stderr",
     "output_type": "stream",
     "text": [
      "/anaconda3/envs/metis/lib/python3.6/site-packages/sklearn/svm/base.py:193: FutureWarning: The default value of gamma will change from 'auto' to 'scale' in version 0.22 to account better for unscaled features. Set gamma explicitly to 'auto' or 'scale' to avoid this warning.\n",
      "  \"avoid this warning.\", FutureWarning)\n",
      "/anaconda3/envs/metis/lib/python3.6/site-packages/sklearn/ensemble/forest.py:245: FutureWarning: The default value of n_estimators will change from 10 in version 0.20 to 100 in 0.22.\n",
      "  \"10 in version 0.20 to 100 in 0.22.\", FutureWarning)\n"
     ]
    }
   ],
   "source": [
    "knn = KNeighborsClassifier(n_neighbors=5)\n",
    "knn.fit(X_train,y_train);\n",
    "print('LogReg Accuracy = {:5f}'.format(accuracy_score(y_test,knn.predict(X_test))))\n",
    "\n",
    "logreg = LogisticRegression(C=10,solver='lbfgs')\n",
    "logreg.fit(X_train,y_train);\n",
    "print('LogReg Accuracy = {:5f}'.format(accuracy_score(y_test,logreg.predict(X_test))))\n",
    "\n",
    "gnb = GaussianNB()\n",
    "gnb.fit(X_train,y_train)\n",
    "print('GaussianNB Accuracy = {:5f}'.format(accuracy_score(y_test,gnb.predict(X_test))))\n",
    "\n",
    "svc = SVC()\n",
    "svc.fit(X_train,y_train)\n",
    "print('Support Vector Machine Accuracy = {:5f}'.format(accuracy_score(y_test,gnb.predict(X_test))))\n",
    "\n",
    "dt = DecisionTreeClassifier()\n",
    "dt.fit(X_train,y_train)\n",
    "print('Decision Tree Accuracy = {:5f}'.format(accuracy_score(y_test,dt.predict(X_test))))\n",
    "\n",
    "rf = RandomForestClassifier()\n",
    "rf.fit(X_train,y_train)\n",
    "print('Random Forest Accuracy = {:5f}'.format(accuracy_score(y_test,rf.predict(X_test))))"
   ]
  },
  {
   "cell_type": "code",
   "execution_count": 14,
   "metadata": {},
   "outputs": [],
   "source": [
    "# Calculate precision, recall, f1"
   ]
  },
  {
   "cell_type": "code",
   "execution_count": 18,
   "metadata": {},
   "outputs": [
    {
     "name": "stdout",
     "output_type": "stream",
     "text": [
      "Log Reg Default threshold:\n",
      "Precision: 0.9639,   Recall: 1.0000, f1: 0.9816\n",
      "KNN Default threshold:\n",
      "Precision: 0.9512,   Recall: 0.9750, f1: 0.9630\n",
      "Gaussian NB Default threshold:\n",
      "Precision: 0.9634,   Recall: 0.9875, f1: 0.9753\n",
      "Support Vector Machine Default threshold:\n",
      "Precision: 0.9753,   Recall: 0.9875, f1: 0.9814\n",
      "Decision Tree Default threshold:\n",
      "Precision: 0.9634,   Recall: 0.9875, f1: 0.9753\n",
      "Random Forest Default threshold:\n",
      "Precision: 0.9634,   Recall: 0.9875, f1: 0.9753\n"
     ]
    }
   ],
   "source": [
    "# using the default threshold of 0.5, which is what vanilla predict does\n",
    "y_pred_lr = logreg.predict(X_test)\n",
    "print(\"Log Reg Default threshold:\")\n",
    "print(\"Precision: {:6.4f},   Recall: {:6.4f}, f1: {:6.4f}\".format(precision_score(y_test, y_pred_lr), \n",
    "                                                     recall_score(y_test, y_pred_lr),f1_score(y_test, y_pred_lr)))\n",
    "\n",
    "y_pred_knn = knn.predict(X_test)\n",
    "print(\"KNN Default threshold:\")\n",
    "print(\"Precision: {:6.4f},   Recall: {:6.4f}, f1: {:6.4f}\".format(precision_score(y_test, y_pred_knn), \n",
    "                                                     recall_score(y_test, y_pred_knn),f1_score(y_test, y_pred_knn)))\n",
    "\n",
    "y_pred = gnb.predict(X_test)\n",
    "print(\"Gaussian NB Default threshold:\")\n",
    "print(\"Precision: {:6.4f},   Recall: {:6.4f}, f1: {:6.4f}\".format(precision_score(y_test, y_pred), \n",
    "                                                     recall_score(y_test, y_pred),f1_score(y_test, y_pred)))\n",
    "y_pred = svc.predict(X_test)\n",
    "print(\"Support Vector Machine Default threshold:\")\n",
    "print(\"Precision: {:6.4f},   Recall: {:6.4f}, f1: {:6.4f}\".format(precision_score(y_test, y_pred), \n",
    "                                                     recall_score(y_test, y_pred),f1_score(y_test, y_pred)))\n",
    "y_pred = dt.predict(X_test)\n",
    "print(\"Decision Tree Default threshold:\")\n",
    "print(\"Precision: {:6.4f},   Recall: {:6.4f}, f1: {:6.4f}\".format(precision_score(y_test, y_pred), \n",
    "                                                     recall_score(y_test, y_pred),f1_score(y_test, y_pred)))\n",
    "y_pred = rf.predict(X_test)\n",
    "print(\"Random Forest Default threshold:\")\n",
    "print(\"Precision: {:6.4f},   Recall: {:6.4f}, f1: {:6.4f}\".format(precision_score(y_test, y_pred), \n",
    "                                                     recall_score(y_test, y_pred),f1_score(y_test, y_pred)))\n"
   ]
  },
  {
   "cell_type": "markdown",
   "metadata": {},
   "source": [
    "## **CHALLENGE 2**"
   ]
  },
  {
   "cell_type": "code",
   "execution_count": 34,
   "metadata": {},
   "outputs": [
    {
     "name": "stdout",
     "output_type": "stream",
     "text": [
      "ROC AUC score =  0.9938725490196079\n"
     ]
    },
    {
     "data": {
      "image/png": "[encoded data removed]",
      "text/plain": [
       "<Figure size 432x288 with 1 Axes>"
      ]
     },
     "metadata": {
      "needs_background": "light"
     },
     "output_type": "display_data"
    }
   ],
   "source": [
    "# Precision = TP / (TP + FP)\n",
    "# Recall = TP/P = True positive rate\n",
    "# false positive rate = FP / true negatives = FP / (FP + TN) \n",
    "from sklearn.metrics import roc_auc_score, roc_curve\n",
    "\n",
    "fpr_lr, tpr_lr, thresholds_lr = roc_curve(y_test, logreg.predict_proba(X_test)[:,1])\n",
    "fpr_knn, tpr_knn, thresholds_knn = roc_curve(y_test, knn.predict_proba(X_test)[:,1])\n",
    "fpr_gnb, tpr_gnb, thresholds_gnb = roc_curve(y_test, gnb.predict_proba(X_test)[:,1])\n",
    "# fpr_svc, tpr_svc, thresholds_svc = roc_curve(y_test, svc.predict_proba(X_test)[:,1])\n",
    "fpr_dt, tpr_dt, thresholds_dt = roc_curve(y_test, dt.predict_proba(X_test)[:,1])\n",
    "fpr_rf, tpr_rf, thresholds_rf = roc_curve(y_test, rf.predict_proba(X_test)[:,1])\n",
    "\n",
    "\n",
    "plt.plot(fpr_lr, tpr_lr,lw=1)\n",
    "plt.plot(fpr_knn, tpr_knn,lw=1)\n",
    "plt.plot(fpr_gnb, tpr_gnb,lw=1)\n",
    "# plt.plot(fpr_svc, tpr_svc,lw=1)\n",
    "plt.plot(fpr_dt, tpr_dt,lw=1)\n",
    "plt.plot(fpr_rf, tpr_rf,lw=1)\n",
    "plt.plot([0,1],[0,1],c='violet',ls='--')\n",
    "plt.xlim([-0.05,1.05])\n",
    "plt.ylim([-0.05,1.05])\n",
    "\n",
    "\n",
    "plt.xlabel('False positive rate')\n",
    "plt.ylabel('True positive rate')\n",
    "plt.title('ROC curve for fraud problem')\n",
    "plt.legend(['LogReg','KNN','GaussianNB','Decision Tree','Random Forest']);\n",
    "print(\"ROC AUC score = \", roc_auc_score(y_test, logreg.predict_proba(X_test)[:,1]))"
   ]
  },
  {
   "cell_type": "markdown",
   "metadata": {},
   "source": [
    "## **CHALLENGE 3**"
   ]
  },
  {
   "cell_type": "code",
   "execution_count": 36,
   "metadata": {},
   "outputs": [],
   "source": [
    "from sklearn.model_selection import cross_val_score"
   ]
  },
  {
   "cell_type": "code",
   "execution_count": 38,
   "metadata": {},
   "outputs": [],
   "source": [
    "def cv_score(model, score):\n",
    "    return np.mean(cross_val_score(model,X,y,scoring=score,cv=5))"
   ]
  },
  {
   "cell_type": "code",
   "execution_count": 47,
   "metadata": {},
   "outputs": [
    {
     "name": "stdout",
     "output_type": "stream",
     "text": [
      "Calculate Metrics with Cross Validation\n",
      "Log Reg Default threshold:\n",
      "Precision: 0.9696,   Recall: 0.9700, f1: 0.9699\n",
      "KNN Default threshold:\n",
      "Precision: 0.9623,   Recall: 0.9700, f1: 0.9699\n",
      "Gaussian NB Default threshold:\n",
      "Precision: 0.9582,   Recall: 0.9700, f1: 0.9699\n",
      "Support Vector Machine Default threshold:\n"
     ]
    },
    {
     "name": "stderr",
     "output_type": "stream",
     "text": [
      "/anaconda3/envs/metis/lib/python3.6/site-packages/sklearn/svm/base.py:193: FutureWarning: The default value of gamma will change from 'auto' to 'scale' in version 0.22 to account better for unscaled features. Set gamma explicitly to 'auto' or 'scale' to avoid this warning.\n",
      "  \"avoid this warning.\", FutureWarning)\n",
      "/anaconda3/envs/metis/lib/python3.6/site-packages/sklearn/svm/base.py:193: FutureWarning: The default value of gamma will change from 'auto' to 'scale' in version 0.22 to account better for unscaled features. Set gamma explicitly to 'auto' or 'scale' to avoid this warning.\n",
      "  \"avoid this warning.\", FutureWarning)\n",
      "/anaconda3/envs/metis/lib/python3.6/site-packages/sklearn/svm/base.py:193: FutureWarning: The default value of gamma will change from 'auto' to 'scale' in version 0.22 to account better for unscaled features. Set gamma explicitly to 'auto' or 'scale' to avoid this warning.\n",
      "  \"avoid this warning.\", FutureWarning)\n",
      "/anaconda3/envs/metis/lib/python3.6/site-packages/sklearn/svm/base.py:193: FutureWarning: The default value of gamma will change from 'auto' to 'scale' in version 0.22 to account better for unscaled features. Set gamma explicitly to 'auto' or 'scale' to avoid this warning.\n",
      "  \"avoid this warning.\", FutureWarning)\n",
      "/anaconda3/envs/metis/lib/python3.6/site-packages/sklearn/svm/base.py:193: FutureWarning: The default value of gamma will change from 'auto' to 'scale' in version 0.22 to account better for unscaled features. Set gamma explicitly to 'auto' or 'scale' to avoid this warning.\n",
      "  \"avoid this warning.\", FutureWarning)\n"
     ]
    },
    {
     "name": "stdout",
     "output_type": "stream",
     "text": [
      "Precision: 0.9772,   Recall: 0.9700, f1: 0.9699\n",
      "Decision Tree Default threshold:\n",
      "Precision: 0.9591,   Recall: 0.9700, f1: 0.9699\n",
      "Random Forest Default threshold:\n"
     ]
    },
    {
     "name": "stderr",
     "output_type": "stream",
     "text": [
      "/anaconda3/envs/metis/lib/python3.6/site-packages/sklearn/ensemble/forest.py:245: FutureWarning: The default value of n_estimators will change from 10 in version 0.20 to 100 in 0.22.\n",
      "  \"10 in version 0.20 to 100 in 0.22.\", FutureWarning)\n",
      "/anaconda3/envs/metis/lib/python3.6/site-packages/sklearn/ensemble/forest.py:245: FutureWarning: The default value of n_estimators will change from 10 in version 0.20 to 100 in 0.22.\n",
      "  \"10 in version 0.20 to 100 in 0.22.\", FutureWarning)\n",
      "/anaconda3/envs/metis/lib/python3.6/site-packages/sklearn/ensemble/forest.py:245: FutureWarning: The default value of n_estimators will change from 10 in version 0.20 to 100 in 0.22.\n",
      "  \"10 in version 0.20 to 100 in 0.22.\", FutureWarning)\n",
      "/anaconda3/envs/metis/lib/python3.6/site-packages/sklearn/ensemble/forest.py:245: FutureWarning: The default value of n_estimators will change from 10 in version 0.20 to 100 in 0.22.\n",
      "  \"10 in version 0.20 to 100 in 0.22.\", FutureWarning)\n",
      "/anaconda3/envs/metis/lib/python3.6/site-packages/sklearn/ensemble/forest.py:245: FutureWarning: The default value of n_estimators will change from 10 in version 0.20 to 100 in 0.22.\n",
      "  \"10 in version 0.20 to 100 in 0.22.\", FutureWarning)\n"
     ]
    },
    {
     "name": "stdout",
     "output_type": "stream",
     "text": [
      "Precision: 0.9772,   Recall: 0.9700, f1: 0.9699\n"
     ]
    }
   ],
   "source": [
    "print('Calculate Metrics with Cross Validation')\n",
    "print(\"Log Reg Default threshold:\")\n",
    "print(\"Precision: {:6.4f},   Recall: {:6.4f}, f1: {:6.4f}\".format(cv_score(LogisticRegression(solver='lbfgs'),'precision'), \n",
    "                                                     cv_score(logreg,'recall'),cv_score(logreg,'f1')))\n",
    "\n",
    "print(\"KNN Default threshold:\")\n",
    "print(\"Precision: {:6.4f},   Recall: {:6.4f}, f1: {:6.4f}\".format(cv_score(KNeighborsClassifier(n_neighbors=5),'precision'), \n",
    "                                                     cv_score(logreg,'recall'),cv_score(logreg,'f1')))\n",
    "\n",
    "print(\"Gaussian NB Default threshold:\")\n",
    "print(\"Precision: {:6.4f},   Recall: {:6.4f}, f1: {:6.4f}\".format(cv_score(GaussianNB(),'precision'), \n",
    "                                                     cv_score(logreg,'recall'),cv_score(logreg,'f1')))\n",
    "\n",
    "print(\"Support Vector Machine Default threshold:\")\n",
    "print(\"Precision: {:6.4f},   Recall: {:6.4f}, f1: {:6.4f}\".format(cv_score(SVC(),'precision'), \n",
    "                                                     cv_score(logreg,'recall'),cv_score(logreg,'f1')))\n",
    "\n",
    "print(\"Decision Tree Default threshold:\")\n",
    "print(\"Precision: {:6.4f},   Recall: {:6.4f}, f1: {:6.4f}\".format(cv_score(DecisionTreeClassifier(),'precision'), \n",
    "                                                     cv_score(logreg,'recall'),cv_score(logreg,'f1')))\n",
    "\n",
    "print(\"Random Forest Default threshold:\")\n",
    "print(\"Precision: {:6.4f},   Recall: {:6.4f}, f1: {:6.4f}\".format(cv_score(RandomForestClassifier(),'precision'), \n",
    "                                                     cv_score(logreg,'recall'),cv_score(logreg,'f1')))\n"
   ]
  },
  {
   "cell_type": "markdown",
   "metadata": {},
   "source": [
    "## **CHALLENGE 4**"
   ]
  },
  {
   "cell_type": "code",
   "execution_count": 48,
   "metadata": {},
   "outputs": [],
   "source": [
    "df = pd.read_csv('challenges_data/2013_movies.csv')"
   ]
  },
  {
   "cell_type": "code",
   "execution_count": 49,
   "metadata": {},
   "outputs": [],
   "source": [
    "df.ReleaseDate = pd.to_datetime(df.ReleaseDate)\n",
    "df['month'] = df.ReleaseDate.map(lambda x: x.month)\n",
    "\n",
    "df.Budget.fillna(df.Budget.mean(),inplace=True)"
   ]
  },
  {
   "cell_type": "code",
   "execution_count": 50,
   "metadata": {},
   "outputs": [
    {
     "name": "stderr",
     "output_type": "stream",
     "text": [
      "/anaconda3/envs/metis/lib/python3.6/site-packages/ipykernel_launcher.py:2: SettingWithCopyWarning: \n",
      "A value is trying to be set on a copy of a slice from a DataFrame\n",
      "\n",
      "See the caveats in the documentation: http://pandas.pydata.org/pandas-docs/stable/user_guide/indexing.html#returning-a-view-versus-a-copy\n",
      "  \n",
      "/anaconda3/envs/metis/lib/python3.6/site-packages/ipykernel_launcher.py:3: SettingWithCopyWarning: \n",
      "A value is trying to be set on a copy of a slice from a DataFrame\n",
      "\n",
      "See the caveats in the documentation: http://pandas.pydata.org/pandas-docs/stable/user_guide/indexing.html#returning-a-view-versus-a-copy\n",
      "  This is separate from the ipykernel package so we can avoid doing imports until\n"
     ]
    }
   ],
   "source": [
    "df['RuntimeCat'] = df.Runtime\n",
    "df.RuntimeCat[df.Runtime>100] = 1\n",
    "df.RuntimeCat[df.Runtime<=100] = 0"
   ]
  },
  {
   "cell_type": "code",
   "execution_count": 51,
   "metadata": {},
   "outputs": [],
   "source": [
    "y=df['RuntimeCat']\n",
    "X_cols = ['Budget','DomesticTotalGross','month']\n",
    "X = df[X_cols]"
   ]
  },
  {
   "cell_type": "code",
   "execution_count": 54,
   "metadata": {},
   "outputs": [
    {
     "name": "stdout",
     "output_type": "stream",
     "text": [
      "Log Reg Default threshold:\n",
      "Precision: 0.7000,   Recall: 1.0000, f1: 0.8235\n",
      "KNN Default threshold:\n",
      "Precision: 0.6923,   Recall: 0.8571, f1: 0.7660\n"
     ]
    }
   ],
   "source": [
    "from sklearn.preprocessing import StandardScaler\n",
    "\n",
    "X_train,X_test,y_train,y_test = train_test_split(X,y,test_size=0.3, random_state=4444,stratify=y)\n",
    "\n",
    "scaler = StandardScaler()\n",
    "\n",
    "\n",
    "# Fit the scaler using the training data and scale it\n",
    "X_train_scaled = pd.DataFrame(scaler.fit_transform(X_train.values),\n",
    "                              columns=X.columns)\n",
    "\n",
    "# Scale the test data\n",
    "X_test_scaled = pd.DataFrame(scaler.transform(X_test.values), columns=X.columns)\n",
    "\n",
    "lr = LogisticRegression(solver='lbfgs')\n",
    "lr.fit(X_train_scaled,y_train)\n",
    "knn = KNeighborsClassifier(n_neighbors=5)\n",
    "knn.fit(X_train_scaled,y_train)\n",
    "\n",
    "print(\"Log Reg Default threshold:\")\n",
    "print(\"Precision: {:6.4f},   Recall: {:6.4f}, f1: {:6.4f}\".format(precision_score(y_test, lr.predict(X_test_scaled)), \n",
    "                                                     recall_score(y_test, lr.predict(X_test_scaled)),f1_score(y_test, lr.predict(X_test_scaled))))\n",
    "\n",
    "print(\"KNN Default threshold:\")\n",
    "print(\"Precision: {:6.4f},   Recall: {:6.4f}, f1: {:6.4f}\".format(precision_score(y_test, knn.predict(X_test_scaled)), \n",
    "                                                     recall_score(y_test, knn.predict(X_test_scaled)),f1_score(y_test, knn.predict(X_test_scaled))))\n"
   ]
  },
  {
   "cell_type": "markdown",
   "metadata": {},
   "source": [
    "## **CHALLENGE 5**"
   ]
  },
  {
   "cell_type": "code",
   "execution_count": 56,
   "metadata": {},
   "outputs": [],
   "source": [
    "df = pd.read_csv('https://archive.ics.uci.edu/ml/machine-learning-databases/haberman/haberman.data',header=None)"
   ]
  },
  {
   "cell_type": "code",
   "execution_count": 64,
   "metadata": {},
   "outputs": [
    {
     "data": {
      "text/plain": [
       "0.6666666666666666"
      ]
     },
     "execution_count": 64,
     "metadata": {},
     "output_type": "execute_result"
    }
   ],
   "source": [
    "# Use logistic regression \n",
    "# 1 = survival\n",
    "df[3].replace(to_replace=2,value=0,inplace=True)\n",
    "\n",
    "X=df.loc[:,0:2]\n",
    "y=df[3]\n",
    "\n",
    "X_train,X_test,y_train,y_test = train_test_split(X,y,test_size=3,random_state=4444,stratify=y)\n",
    "\n",
    "scaler = StandardScaler()\n",
    "X_train_scaled = scaler.fit_transform(X_train.values)\n",
    "X_test_scaled = scaler.transform(X_test.values)\n",
    "\n",
    "lr=LogisticRegression(solver='lbfgs')\n",
    "lr.fit(X_train_scaled,y_train)\n",
    "accuracy_score(y_test,lr.predict(X_test_scaled))"
   ]
  },
  {
   "cell_type": "code",
   "execution_count": 63,
   "metadata": {},
   "outputs": [
    {
     "name": "stdout",
     "output_type": "stream",
     "text": [
      "ROC AUC score =  1.0\n"
     ]
    },
    {
     "data": {
      "image/png": "[encoded data removed]",
      "text/plain": [
       "<Figure size 432x288 with 1 Axes>"
      ]
     },
     "metadata": {
      "needs_background": "light"
     },
     "output_type": "display_data"
    }
   ],
   "source": [
    "# Plot ROC curve, calculate AUC\n",
    "fpr_lr, tpr_lr, thresholds_lr = roc_curve(y_test, lr.predict_proba(X_test_scaled)[:,1])\n",
    "\n",
    "\n",
    "plt.plot(fpr_lr, tpr_lr,lw=1)\n",
    "plt.plot([0,1],[0,1],c='violet',ls='--')\n",
    "plt.xlim([-0.05,1.05])\n",
    "plt.ylim([-0.05,1.05])\n",
    "\n",
    "\n",
    "plt.xlabel('False positive rate')\n",
    "plt.ylabel('True positive rate')\n",
    "plt.title('ROC curve for fraud problem')\n",
    "print(\"ROC AUC score = \", roc_auc_score(y_test, lr.predict_proba(X_test_scaled)[:,1]))"
   ]
  },
  {
   "cell_type": "code",
   "execution_count": null,
   "metadata": {},
   "outputs": [],
   "source": []
  }
 ],
 "metadata": {
  "kernelspec": {
   "display_name": "Python 3",
   "language": "python",
   "name": "python3"
  },
  "language_info": {
   "codemirror_mode": {
    "name": "ipython",
    "version": 3
   },
   "file_extension": ".py",
   "mimetype": "text/x-python",
   "name": "python",
   "nbconvert_exporter": "python",
   "pygments_lexer": "ipython3",
   "version": "3.6.9"
  }
 },
 "nbformat": 4,
 "nbformat_minor": 4
}
